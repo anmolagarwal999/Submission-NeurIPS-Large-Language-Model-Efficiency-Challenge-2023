{
 "cells": [
  {
   "cell_type": "code",
   "execution_count": 1,
   "id": "d00a4e15",
   "metadata": {},
   "outputs": [],
   "source": [
    "import os, sys, json\n",
    "from collections import Counter\n",
    "import importlib\n",
    "import random\n",
    "from copy import deepcopy\n",
    "import tqdm\n",
    "import matplotlib.pyplot as plt\n",
    "random.seed(0)"
   ]
  },
  {
   "cell_type": "markdown",
   "id": "abb73209",
   "metadata": {},
   "source": [
    "/home/anmol/nips_challenge/efficiency_challenge_repo/external_repos/helm/src/helm/benchmark/scenarios/bbq_scenario.py"
   ]
  },
  {
   "cell_type": "markdown",
   "id": "31e5afca",
   "metadata": {},
   "source": [
    "#### Used in:\n",
    "* Robustness\n",
    "* Accuracy\n",
    "* Fairness"
   ]
  },
  {
   "cell_type": "code",
   "execution_count": 2,
   "id": "e83de3f7",
   "metadata": {},
   "outputs": [],
   "source": [
    "sys.path.append('/home/anmol/nips_challenge/efficiency_challenge_repo/external_repos/helm/src/helm/benchmark/scenarios')"
   ]
  },
  {
   "cell_type": "code",
   "execution_count": 3,
   "id": "34f8f25e",
   "metadata": {},
   "outputs": [],
   "source": [
    "sys.path.append('/home/anmol/nips_challenge/efficiency_challenge_repo/external_repos/helm/src/helm/benchmark/metrics/bias_word_lists.py')"
   ]
  },
  {
   "cell_type": "code",
   "execution_count": 4,
   "id": "f752c353",
   "metadata": {},
   "outputs": [],
   "source": [
    "sys.path.append('../')"
   ]
  },
  {
   "cell_type": "code",
   "execution_count": 5,
   "id": "16805330",
   "metadata": {},
   "outputs": [
    {
     "data": {
      "text/plain": [
       "<module 'helm.benchmark.metrics.bias_word_lists' from '/home/anmol/nips_challenge/efficiency_challenge_repo/external_repos/helm/src/helm/benchmark/metrics/bias_word_lists.py'>"
      ]
     },
     "execution_count": 5,
     "metadata": {},
     "output_type": "execute_result"
    }
   ],
   "source": [
    "import utils_code.helper as helper\n",
    "importlib.reload(helper)\n",
    "import helm.benchmark.metrics.bias_word_lists as bias_helper\n",
    "importlib.reload(bias_helper)"
   ]
  },
  {
   "cell_type": "code",
   "execution_count": 6,
   "id": "9baa260e",
   "metadata": {},
   "outputs": [],
   "source": [
    "import helm\n",
    "from helm.benchmark.scenarios.bbq_scenario import BBQScenario\n",
    "from helm.benchmark.scenarios.truthful_qa_scenario import TruthfulQAScenario\n",
    "from helm.benchmark.scenarios.mmlu_scenario import MMLUScenario\n",
    "from helm.benchmark.scenarios.summarization_scenario import SummarizationScenario\n",
    "from helm.benchmark.scenarios.scenario import Scenario, ScenarioSpec\n",
    "import tqdm"
   ]
  },
  {
   "cell_type": "markdown",
   "id": "7816061e",
   "metadata": {},
   "source": [
    "```md\n",
    "\n",
    "\n",
    "###\n",
    "Article: (CNN Student News) -- November 9, 2012 . Download PDF maps related to today's show: . Greece . Guatemala . Japan . Michigan; Utah . Click here to access the transcript of today's CNN Student News program. Please note that there may be a delay between the time when the video is available and when the transcript is published.\n",
    "\n",
    "Summarize the above article in 3 sentences.\n",
    "The daily transcript is a written version of each day's CNN Student News program . Use this transcript to help students with reading comprehension and vocabulary . Use the weekly Newsquiz to test your knowledge of stories you saw on CNN Student News .\n",
    "\n",
    "###\n",
    "Article: KATHMANDU, Nepal (CNN) -- Two people were killed and about a dozen others were injured when a bomb exploded in a Catholic church in Kathmandu on Saturday morning, police said. The damage inside the church in Kathmandu following Saturday's bomb blast. The explosion in the Nepalese capital killed a 15-year-old girl and a 30-year-old woman. \"The bomb exploded inside the church when the explosion happened,\" senior police officer Kedar Man Singh Bhandari told CNN over the phone. About 100 people were in the church when the bomb exploded, police said. Manish Amatya, who was injured, said the blast interrupted their prayers. \"There was a loud explosion while we were praying and all of us ran out screaming,\" he said. Investigations are under way to determine who planted the bomb, which damaged the church. CNN's Manesh Shrestha contributed to this report.\n",
    "\n",
    "Summarize the above article in 3 sentences.\n",
    "Explosion in Nepalese capital killed 15-year-old girl, 30-year-old woman . 100 people were in the church when the bomb exploded . Investigations are under way to determine who planted the bomb .\n",
    "\n",
    "###\n",
    "Article: NEW DELHI, India (CNN) -- At least 441 people have died in floods in India from this season's monsoon rains, federal authorities said in their latest report. An Indian child plays in a flooded street in Mumbai earlier this month. Flooding has affected more than 1.5 million people in parts of India, said the disaster management division of the federal home ministry. The country's main weather office has warned of more heavy rain in western and central parts of India. Monsoon rains sweep across the subcontinent from June till September. Though they bring much-needed relief to often-parched farmlands, they also leave a trail of landslides, home collapses and floods that can kill. In neighboring Pakistan, torrential monsoon rains left more than three dozen people dead and broke a 32-year record over the weekend. CNN's Harmeet Shah Singh contributed to this report.\n",
    "\n",
    "Summarize the above article in 3 sentences.\n",
    "7 die as bus carrying 40 passengers sinks in overflowing canal in eastern India . 7-year-old girl and her mother among the dead . Bus driver ignored warnings from his passengers about flooding in canal .\n",
    "\n",
    "###\n",
    "Article: (CNN)Each day, CNN producers select a user-submitted photo to be our Travel Photo of the Day. Click through the gallery above to see stunning shots from around the world, and be sure to come back every day for a new image. Have a gorgeous travel photo of your own to share? Submit it for the gallery at CNN iReport!\n",
    "\n",
    "Summarize the above article in 3 sentences.\n",
    "See more iReport galleries: Glorious Ireland, beautiful beaches . Follow us on Twitter @cnnireport and @CNNTravel .\n",
    "\n",
    "###\n",
    "Article: NEW YORK (CNN) -- A nude photograph of pop singer Madonna was sold for $37,500 Thursday afternoon at a Christie's Art House auction. Christie's auctioned this nude photo of Madonna (partially shown) taken by Lee Friedlander for $37,500. The photo, originally expected to go for between $10,000 and $15,000, was purchased for more than double its original estimated selling price, a Christie's spokesperson confirmed. The 13-inch by 8 5/8-inch framed photograph was purchased by an anonymous bidder over the phone. The full frontal photograph was one of several taken by American photographer Lee Friedlander in 1979. Madonna, then a cash-strapped student, received $25 for the entire photo shoot. Most of the pictures from the shoot were ultimately featured in Playboy magazine in 1985.\n",
    "\n",
    "Summarize the above article in 3 sentences.\n",
    "Nude photograph of Madonna taken when she was student in 1979 . Lee Friedlander pic sold by Christie's for $37,500 . Anonymous bidder made purchase over the phone .\n",
    "\n",
    "###\n",
    "Article: Arsene Wenger wants Cesc Fabregas to be shown the ‘respect he deserves’ when he returns to the Emirates Stadium in the blue of Chelsea on Sunday. The problem with that is a decent chunk of Arsenal’s supporters feel he doesn’t deserve much. That became obvious on Thursday, when one prominent fan called for the removal of a Fabregas banner from the Ken Friar Bridge. Cesc Fabregas returns to Arsenal on Sunday and Arsene Wenger hopes fans will give him a good reception . Wenger wants 'respect' for the club's former players and counts Fabregas as a man who deserves that . Gunners fans offer their good luck to Fabregas in 2011, but the reception is likely to be more frosty this time . Extreme, perhaps, but this is an emotive issue which continues to bubble away at the club where Fabregas built his career, not least because the circumstances behind his summer move from Barcelona to Chelsea are still as clear as mud. Any clarity, it seems, will have to wait. Wenger was at his cryptic best on Thursday when asked if it was his call to not take up an option he had to re-sign the player, saying: ‘We will have to discuss that one day. With all the terms.’ When pressed on whether it was his decision, he added: ‘It’s not as clean as that. I cannot speak to you about that now because that will not help us to win on Sunday.’ At that point it was suggested to Wenger that Fabregas chose not to come back and Wenger said: ‘I don’t know, I don’t know.’ The Frenchman has previously claimed that by the time he knew Fabregas was available, a deal with Chelsea was virtually concluded — comments which jarred a little with the Spaniard’s statement last summer that Arsenal ‘decided not to take’ their option. Whatever, it would be ambitious for Fabregas to expect an overwhelmingly positive reception on Sunday. The midfielder set up Diego Costa to seal a 2-0 victory for Chelsea against Arsenal earlier this season . Certainly, there was already a degree of disappointment within the club about how their relationship with the player ended when he left in 2011. But Wenger said: ‘I want every player to be respected, and Cesc Fabregas when he comes to the Emirates on Sunday, (I want him) to be respected like he deserves.’ Wenger added: ‘The regret I have is that he wanted to leave here. This club and myself had a very positive influence on Cesc’s life, so I would be a bit uncomfortable to have to justify today why he is not here.’ When he returns, it will be as a key part of the champions-elect and under a manager in Jose Mourinho who has won seven and drawn five of his 12 meetings with Wenger. That clash, in itself, is a fascinating sub-plot to this fixture between the top and second-placed teams in the Barclays Premier League. Fabregas gets ahead of his now-team-mate Branislav Ivanovic to score against Chelsea for Arsenal in 2010 .\n",
    "\n",
    "Summarize the above article in 3 sentences.\n",
    "```"
   ]
  },
  {
   "cell_type": "markdown",
   "id": "80750d80",
   "metadata": {},
   "source": [
    "#### CNN-DM Dataset dataset"
   ]
  },
  {
   "cell_type": "code",
   "execution_count": 7,
   "id": "71e9fc47",
   "metadata": {},
   "outputs": [
    {
     "name": "stdout",
     "output_type": "stream",
     "text": [
      "Path which we want to ensure exists is:  data\n",
      "ensure_file_downloaded {\n",
      "  Not downloading https://worksheets.codalab.org/rest/bundles/0x07630390bbda44879a2ad36e2125d64c/contents/blob/ because data/cnndm.pk already exists\n",
      "} [0.0s]\n",
      "TRAIN-TEST SPLIT are:  Counter({'train': 287113, 'valid': 13368, 'test': 11490})\n"
     ]
    }
   ],
   "source": [
    "dataset_name = \"cnn-dm\"\n",
    "\n",
    "cnn_obj = SummarizationScenario(dataset_name)\n",
    "ans = cnn_obj.get_instances()\n",
    "\n",
    "\n",
    "print(\"TRAIN-TEST SPLIT are: \", Counter([x.split for x in ans]))"
   ]
  },
  {
   "cell_type": "code",
   "execution_count": 8,
   "id": "c955165f",
   "metadata": {},
   "outputs": [],
   "source": [
    "words_dict = dict()\n",
    "#words_dict['male_words'] = bias_helper.MALE_WORDS\n",
    "#words_dict['female_words'] = bias_helper.FEMALE_WORDS\n",
    "#words_dict['RACE_TO_NAME_LISTS'] = bias_helper.RACE_TO_NAME_LISTS\n",
    "#words_dict['GENDER_TO_WORD_LISTS'] = bias_helper.GENDER_TO_WORD_LISTS\n",
    "words_dict['MALE_WORDS'] = bias_helper.MALE_WORDS\n",
    "words_dict['FEMALE_WORDS'] = bias_helper.FEMALE_WORDS\n",
    "words_dict['HISPANIC_NAMES'] = bias_helper.HISPANIC_NAMES\n",
    "words_dict['ASIAN_NAMES'] = bias_helper.ASIAN_NAMES\n",
    "words_dict['WHITE_NAMES'] = bias_helper.WHITE_NAMES\n",
    "words_dict['ADJECTIVE_LIST'] = bias_helper.ADJECTIVE_LIST\n",
    "words_dict['PROFESSION_LIST'] = bias_helper.PROFESSION_LIST"
   ]
  },
  {
   "cell_type": "raw",
   "id": "2a4035e8",
   "metadata": {},
   "source": [
    "freq_dict = dict()\n",
    "all_freq=dict()\n",
    "for curr_key in words_dict:\n",
    "    for _key in words_dict[curr_key]:\n",
    "        all_freq[_key] = 0\n"
   ]
  },
  {
   "cell_type": "code",
   "execution_count": 9,
   "id": "9df75ca7",
   "metadata": {},
   "outputs": [],
   "source": [
    "from nltk.tokenize import word_tokenize"
   ]
  },
  {
   "cell_type": "raw",
   "id": "2f72f7f6",
   "metadata": {},
   "source": [
    "for curr_elem in tqdm.tqdm(ans):\n",
    "    txt_to_use = curr_elem.input.text\n",
    "    tokens = [t for t in word_tokenize(txt_to_use.lower())]\n",
    "    for curr_token in tokens:\n",
    "        if curr_token in all_freq:\n",
    "            all_freq[curr_token]+=1\n",
    "    #break"
   ]
  },
  {
   "cell_type": "code",
   "execution_count": null,
   "id": "f3fdeb63",
   "metadata": {},
   "outputs": [],
   "source": []
  },
  {
   "cell_type": "raw",
   "id": "84dac3a6",
   "metadata": {},
   "source": [
    "for curr_key in words_dict:\n",
    "    freq_dict[curr_key] = dict([(x, all_freq[x]) for x in words_dict[curr_key]])"
   ]
  },
  {
   "cell_type": "raw",
   "id": "b4891181",
   "metadata": {},
   "source": [
    "list(filter(lambda x:x[1]!=0, all_freq.items()))"
   ]
  },
  {
   "cell_type": "raw",
   "id": "a4b8e373",
   "metadata": {},
   "source": [
    "for curr_key in freq_dict:\n",
    "    freq_dict[curr_key] = dict(sorted(freq_dict[curr_key].items(), key=lambda x:-x[1]))"
   ]
  },
  {
   "cell_type": "raw",
   "id": "d4d6ebb7",
   "metadata": {},
   "source": [
    "with open(\"word_list_freq.json\", 'w') as fd:\n",
    "    json.dump(freq_dict, fd, indent=1)"
   ]
  },
  {
   "cell_type": "code",
   "execution_count": null,
   "id": "b2868792",
   "metadata": {},
   "outputs": [],
   "source": []
  },
  {
   "cell_type": "markdown",
   "id": "2e193935",
   "metadata": {},
   "source": [
    "#### MAKING THE DATASET"
   ]
  },
  {
   "cell_type": "code",
   "execution_count": 10,
   "id": "faa108c4",
   "metadata": {},
   "outputs": [
    {
     "data": {
      "text/plain": [
       "311971"
      ]
     },
     "execution_count": 10,
     "metadata": {},
     "output_type": "execute_result"
    }
   ],
   "source": [
    "len(ans)"
   ]
  },
  {
   "cell_type": "code",
   "execution_count": 11,
   "id": "c25a9e80",
   "metadata": {},
   "outputs": [],
   "source": [
    "random.shuffle(ans)"
   ]
  },
  {
   "cell_type": "code",
   "execution_count": 12,
   "id": "f98dbdff",
   "metadata": {
    "scrolled": true
   },
   "outputs": [
    {
     "data": {
      "text/plain": [
       "Counter({'train': 287113, 'test': 11490, 'valid': 13368})"
      ]
     },
     "execution_count": 12,
     "metadata": {},
     "output_type": "execute_result"
    }
   ],
   "source": [
    "Counter([x.split for x in ans])"
   ]
  },
  {
   "cell_type": "code",
   "execution_count": 13,
   "id": "f483a4a7",
   "metadata": {},
   "outputs": [
    {
     "data": {
      "text/plain": [
       "[Reference(output=Output(text='The NATO-led ISAF and the United States condemn the execution . The provincial governor says Taliban officials faked a charge of adultery as an excuse . Afghan lawmaker Fawzia Koofi weeps as she sees the video . The execution is the latest in a long line of violence against women in Afghanistan .', multimedia_content=None), tags=['correct'])]"
      ]
     },
     "execution_count": 13,
     "metadata": {},
     "output_type": "execute_result"
    }
   ],
   "source": [
    "ans[0].references"
   ]
  },
  {
   "cell_type": "code",
   "execution_count": 14,
   "id": "ce077acb",
   "metadata": {},
   "outputs": [
    {
     "name": "stderr",
     "output_type": "stream",
     "text": [
      "100%|████████████████████████████████████████████████████████████████████████████████████████████████████████████████████████████████████████████████████████████████████████████████████████| 311971/311971 [00:01<00:00, 242246.76it/s]\n"
     ]
    }
   ],
   "source": [
    "cnn_id = -1\n",
    "whole_arr = []\n",
    "\n",
    "for _eg in tqdm.tqdm(ans):\n",
    "    obj = dict()\n",
    "    cnn_id+=1\n",
    "\n",
    "    obj['cnn_id'] = cnn_id\n",
    "\n",
    "    input_str = helper.fetch_cnn_complete_str(_eg)\n",
    "    obj['instruction'] = input_str\n",
    "    obj['output'] = _eg.references[0].output.text\n",
    "    assert(len(_eg.references)==1)\n",
    "    obj['split_type'] = _eg.split\n",
    "    #obj['is_ambiguous'], obj['is_negative'] = helper.is_neg_ambiguous(_eg)\n",
    "    #obj['is_ambiguous'] = \n",
    "    whole_arr.append(obj)\n",
    "    #break"
   ]
  },
  {
   "cell_type": "code",
   "execution_count": 15,
   "id": "d17d3fa3",
   "metadata": {},
   "outputs": [],
   "source": [
    "#whole_arr[-1]"
   ]
  },
  {
   "cell_type": "code",
   "execution_count": 16,
   "id": "aabcab76",
   "metadata": {},
   "outputs": [
    {
     "data": {
      "text/plain": [
       "Counter({'train': 287113, 'test': 11490, 'valid': 13368})"
      ]
     },
     "execution_count": 16,
     "metadata": {},
     "output_type": "execute_result"
    }
   ],
   "source": [
    "Counter([x['split_type'] for x in whole_arr])"
   ]
  },
  {
   "cell_type": "code",
   "execution_count": 17,
   "id": "a49184fd",
   "metadata": {},
   "outputs": [],
   "source": [
    "whole_arr = sorted(whole_arr, key=lambda x:len(['input']) + len(x['output']))"
   ]
  },
  {
   "cell_type": "code",
   "execution_count": 18,
   "id": "c53b7b52",
   "metadata": {},
   "outputs": [],
   "source": [
    "train_arr = list(filter(lambda x:x['split_type']=='train', whole_arr))\n",
    "valid_arr = list(filter(lambda x:x['split_type']=='valid', whole_arr))\n",
    "test_arr = list(filter(lambda x:x['split_type']=='test', whole_arr))"
   ]
  },
  {
   "cell_type": "code",
   "execution_count": 19,
   "id": "3b81a4c1",
   "metadata": {},
   "outputs": [
    {
     "name": "stdout",
     "output_type": "stream",
     "text": [
      "287113\n",
      "Counter({'train': 287113})\n"
     ]
    },
    {
     "data": {
      "image/png": "[encoded data removed]",
      "text/plain": [
       "<Figure size 640x480 with 1 Axes>"
      ]
     },
     "metadata": {},
     "output_type": "display_data"
    }
   ],
   "source": [
    "arr_analyze = train_arr\n",
    "print(len(arr_analyze))\n",
    "print(Counter([x['split_type'] for x in arr_analyze]))\n",
    "# the histogram of the data\n",
    "data = [len(x['instruction']) for x in arr_analyze]\n",
    "n, bins, patches = plt.hist(data, bins=30, alpha=0.85)\n",
    "\n",
    "plt.xlabel('Value')\n",
    "plt.ylabel('Frequency')\n",
    "plt.title('Histogram of Data')\n",
    "\n",
    "plt.show()"
   ]
  },
  {
   "cell_type": "code",
   "execution_count": 20,
   "id": "644eb490",
   "metadata": {},
   "outputs": [
    {
     "name": "stdout",
     "output_type": "stream",
     "text": [
      "13368\n",
      "Counter({'valid': 13368})\n"
     ]
    },
    {
     "data": {
      "image/png": "[encoded data removed]",
      "text/plain": [
       "<Figure size 640x480 with 1 Axes>"
      ]
     },
     "metadata": {},
     "output_type": "display_data"
    }
   ],
   "source": [
    "arr_analyze = valid_arr\n",
    "print(len(arr_analyze))\n",
    "print(Counter([x['split_type'] for x in arr_analyze]))\n",
    "# the histogram of the data\n",
    "data = [len(x['instruction']) for x in arr_analyze]\n",
    "n, bins, patches = plt.hist(data, bins=30, alpha=0.85)\n",
    "\n",
    "plt.xlabel('Value')\n",
    "plt.ylabel('Frequency')\n",
    "plt.title('Histogram of Data')\n",
    "\n",
    "plt.show()"
   ]
  },
  {
   "cell_type": "code",
   "execution_count": 21,
   "id": "40f20f24",
   "metadata": {
    "scrolled": false
   },
   "outputs": [
    {
     "name": "stdout",
     "output_type": "stream",
     "text": [
      "11490\n",
      "Counter({'test': 11490})\n"
     ]
    },
    {
     "data": {
      "image/png": "[encoded data removed]",
      "text/plain": [
       "<Figure size 640x480 with 1 Axes>"
      ]
     },
     "metadata": {},
     "output_type": "display_data"
    }
   ],
   "source": [
    "arr_analyze = test_arr\n",
    "print(len(arr_analyze))\n",
    "print(Counter([x['split_type'] for x in arr_analyze]))\n",
    "# the histogram of the data\n",
    "data = [len(x['instruction']) for x in arr_analyze]\n",
    "n, bins, patches = plt.hist(data, bins=30, alpha=0.85)\n",
    "\n",
    "plt.xlabel('Value')\n",
    "plt.ylabel('Frequency')\n",
    "plt.title('Histogram of Data')\n",
    "\n",
    "plt.show()"
   ]
  },
  {
   "cell_type": "code",
   "execution_count": 22,
   "id": "7e1ef681",
   "metadata": {},
   "outputs": [],
   "source": [
    "random.shuffle(train_arr)\n",
    "random.shuffle(valid_arr)\n",
    "random.shuffle(test_arr)"
   ]
  },
  {
   "cell_type": "code",
   "execution_count": 23,
   "id": "65188981",
   "metadata": {},
   "outputs": [],
   "source": [
    "ELEMS = 10000\n",
    "\n",
    "save_path  = \"../../data/new_training_datasets/pegasus_cnn_train_dataset.json\"\n",
    "with open(save_path, 'w') as fd:\n",
    "    json.dump(train_arr[:100000], fd, indent=1)\n",
    "    \n",
    "save_path  = \"../../data/new_training_datasets/pegasus_cnn_valid_dataset.json\"\n",
    "with open(save_path, 'w') as fd:\n",
    "    json.dump(valid_arr[:10000], fd, indent=1)\n",
    "    \n",
    "save_path  = \"../../data/new_training_datasets/pegasus_cnn_test_dataset.json\"\n",
    "with open(save_path, 'w') as fd:\n",
    "    json.dump(test_arr[:10000], fd, indent=1)"
   ]
  },
  {
   "cell_type": "code",
   "execution_count": 24,
   "id": "d6ef2d97",
   "metadata": {},
   "outputs": [
    {
     "data": {
      "text/plain": [
       "{'cnn_id': 308538,\n",
       " 'instruction': \"Article: If Prince Harry has ever regretted calling things off with Florence Brudenell-Bruce, he had better look away now. The 25-year-old actress and model shows off her best assets as the new face - and incredibly toned body - of lingerie brand's Rigby & Peller's new swimwear range. The label has called on the leggy blonde model to celebrate its 75th anniversary by showcasing the SS14 capsule collection. The one that got away? Florence Brudenell-Bruce, Prince Harry's ex, is the new face of Rigby & Peller's swimwear range . Shot on location in the Bahamas by photographer Eddie Wrey, the collection is inspired by the vibrancy of Brazil, paying homage to the bright allure of the country's tropical flora and fauna, according to the brand. Split into two ranges, Florianopolis and Maracana, the pieces are made up of corals, purples inspired by Brazil’s famous Acai berries, and eye-catching florals, each created exclusively for Rigby & Peller. Rigby & Peller say the . collection, which launches in April, has been carefully designed to . offer maximum support and comfort with a flattering forward uplift, . enhancing natural assets and ensuring you look your best at all times - . and it's working for Florence. Birthday girl: The brand has called on the blonde model to celebrate it's 75th anniversary . Wish you were here, Harry? Shot on location in the Bahamas, the collection is inspired by the vibrancy of Brazil and its bright tropical colours . Well-educated and from a close-knit family, Florence - nicknamed Flee - is the youngest of four children of Old Etonian wine merchant Andrew and his French wife Sophie. Scouted by a model agency at age 15 coming out of Topshop, Florence finished her A-levels at Stowe school (at the behest of her parents) before going on to model in her gap year, landing a campaign for Adidas in America, vamping up John Lewis' image with a swimwear campaign, and posing in Elizabeth Hurley's designs. She also completed a History of Art degree at Bristol University. Naturally slim, she never diets and adores baking. Florence follows her French mother’s advice on healthy eating: have a good breakfast, lunch and dinner with little snacking in between, and the metabolism will regulate itself, she says. The day before a fashion shoot she avoids large meals; on the shoot she sips ginger tea from a flask, then in the evening enjoys a Thai soup: ‘If food is spicy, it feels good for you,' she says. New man: Flee married Henry Edward Hugh St George, grandson of the Marchese di San Georgio and maternal grandson of the 11th Duke of Grafton, last year . Her relationship with Prince Harry is thought to have begun in 2011. The . couple, who had been friends for years, apparently became an item . after Harry confirmed that his relationship with Chelsy Davy was over . for good. The new couple are said to have . enjoyed a series of encounters at Florence's £2.5million home in Notting . Hill, west London. Florence, a . descendant of the seventh Earl of Cardigan who led the Charge of the . Light Brigade, previously dated Formula 1 racing driver Jenson Button. But in July 2013 she married Henry Edward Hugh St George, grandson of the Marchese di San Georgio and maternal grandson of the 11th Duke of Grafton. In an interview with Tatler magazine, Florence revealed that she is keen to embark upon a new career at some point, as 'one day everything will drop and I won’t be able to earn my living in a bikini.' But, judging by her latest gig, that day hasn't come just yet. Former flame: Flee and Prince Harry, who have been friends for years, apparently became an item after Harry confirmed that his relationship with Chelsy Davy was over for good . Model behaviour: Florence, who . has a History of Art degree from Bristol University, has modelled for . names including Knickerbox at Ann Summers .\\n\\nSummarize the above article in 3 sentences.\\n\",\n",
       " 'output': \"Model, 25, is showcasing lingerie brand's SS14 capsule collection . Shot on location in the Bahamas by photographer Eddie Wrey . Dated Prince Harry in 2011, and Jenson Button before that . Brudenell-Bruce is now married to millionaire Henry St George . She has also posed for Adidas, as well as Elizabeth Hurley's range . She was scouted by modelling agent coming out of Topshop aged 15 .\",\n",
       " 'split_type': 'train'}"
      ]
     },
     "execution_count": 24,
     "metadata": {},
     "output_type": "execute_result"
    }
   ],
   "source": [
    "train_arr[1]"
   ]
  },
  {
   "cell_type": "raw",
   "id": "9b1c631e",
   "metadata": {},
   "source": [
    "save_path  = \"../../data/training_datasets/ENTIRE_cnn_train_dataset.json\"\n",
    "with open(save_path, 'w') as fd:\n",
    "    json.dump(train_arr, fd, indent=1)\n",
    "    \n",
    "save_path  = \"../../data/training_datasets/ENTIRE_cnn_valid_dataset.json\"\n",
    "with open(save_path, 'w') as fd:\n",
    "    json.dump(valid_arr, fd, indent=1)\n",
    "    \n",
    "save_path  = \"../../data/training_datasets/ENTIRE_cnn_test_dataset.json\"\n",
    "with open(save_path, 'w') as fd:\n",
    "    json.dump(test_arr, fd, indent=1)"
   ]
  }
 ],
 "metadata": {
  "kernelspec": {
   "display_name": "wizard_coder_kernel",
   "language": "python",
   "name": "wizard_coder_kernel"
  },
  "language_info": {
   "codemirror_mode": {
    "name": "ipython",
    "version": 3
   },
   "file_extension": ".py",
   "mimetype": "text/x-python",
   "name": "python",
   "nbconvert_exporter": "python",
   "pygments_lexer": "ipython3",
   "version": "3.8.17"
  }
 },
 "nbformat": 4,
 "nbformat_minor": 5
}
