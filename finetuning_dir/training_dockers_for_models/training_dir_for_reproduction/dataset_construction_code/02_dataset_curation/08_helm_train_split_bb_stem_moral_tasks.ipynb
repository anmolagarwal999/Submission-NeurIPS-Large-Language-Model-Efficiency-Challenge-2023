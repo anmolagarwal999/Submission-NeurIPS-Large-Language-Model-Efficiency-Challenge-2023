{
 "cells": [
  {
   "cell_type": "code",
   "execution_count": 28,
   "id": "d00a4e15",
   "metadata": {},
   "outputs": [],
   "source": [
    "import os, sys, json\n",
    "from collections import Counter\n",
    "import importlib\n",
    "import random\n",
    "from copy import deepcopy\n",
    "\n",
    "random.seed(0)"
   ]
  },
  {
   "cell_type": "markdown",
   "id": "abb73209",
   "metadata": {},
   "source": [
    "/home/anmol/nips_challenge/efficiency_challenge_repo/external_repos/helm/src/helm/benchmark/scenarios/bbq_scenario.py"
   ]
  },
  {
   "cell_type": "markdown",
   "id": "31e5afca",
   "metadata": {},
   "source": [
    "#### Used in:\n",
    "* Accuracy"
   ]
  },
  {
   "cell_type": "markdown",
   "id": "82eac0e0",
   "metadata": {},
   "source": []
  },
  {
   "cell_type": "code",
   "execution_count": 29,
   "id": "e83de3f7",
   "metadata": {},
   "outputs": [],
   "source": [
    "sys.path.append('/home/anmol/nips_challenge/efficiency_challenge_repo/external_repos/helm/src/helm/benchmark/scenarios')\n",
    "sys.path.append('/home/anmol/nips_challenge/efficiency_challenge_repo/external_repos/helm/src/helm/benchmark/augmentations/')"
   ]
  },
  {
   "cell_type": "code",
   "execution_count": 30,
   "id": "f752c353",
   "metadata": {},
   "outputs": [],
   "source": [
    "sys.path.append('../')"
   ]
  },
  {
   "cell_type": "code",
   "execution_count": 31,
   "id": "16805330",
   "metadata": {},
   "outputs": [
    {
     "data": {
      "text/plain": [
       "<module 'utils_code.helper' from '/home/anmol/nips_challenge/efficiency_challenge_repo/code/02_dataset_curation/../utils_code/helper.py'>"
      ]
     },
     "execution_count": 31,
     "metadata": {},
     "output_type": "execute_result"
    }
   ],
   "source": [
    "import utils_code.helper as helper\n",
    "importlib.reload(helper)"
   ]
  },
  {
   "cell_type": "code",
   "execution_count": 32,
   "id": "9baa260e",
   "metadata": {},
   "outputs": [],
   "source": [
    "import helm\n",
    "from helm.benchmark.scenarios.bbq_scenario import BBQScenario\n",
    "from helm.benchmark.scenarios.truthful_qa_scenario import TruthfulQAScenario\n",
    "from helm.benchmark.scenarios.mmlu_scenario import MMLUScenario\n",
    "from helm.benchmark.scenarios.summarization_scenario import SummarizationScenario\n",
    "from helm.benchmark.scenarios.big_bench_scenario import BIGBenchScenario\n",
    "\n",
    "\n",
    "from helm.benchmark.scenarios.scenario import Scenario, ScenarioSpec\n",
    "\n",
    "\n",
    "from helm.benchmark.augmentations.mild_mix_perturbation import MildMixPerturbation\n",
    "from helm.benchmark.augmentations.dialect_perturbation import DialectPerturbation\n",
    "from helm.benchmark.augmentations.gender_perturbation import GenderPerturbation\n",
    "from helm.benchmark.augmentations.person_name_perturbation import PersonNamePerturbation\n",
    "\n"
   ]
  },
  {
   "cell_type": "markdown",
   "id": "80750d80",
   "metadata": {},
   "source": [
    "####  BigBench  dataset"
   ]
  },
  {
   "cell_type": "code",
   "execution_count": 33,
   "id": "f5a77da7",
   "metadata": {},
   "outputs": [],
   "source": [
    "bigbench_tasks = {\n",
    "    \"analytic_entailment\":[],\n",
    "\"causal_judgment\":[],\n",
    "\"emoji_movie\":[],\n",
    "\"empirical_judgments\":[],\n",
    "\"known_unknowns\":[],\n",
    "\"logical_deduction\":[\"three_objects\", \"five_objects\", \"seven_objects\"],\n",
    "\"strange_stories\":[\"multiple_choice\", \"boolean\"],\n",
    "#\"logical_deduction\":[\"three_objects\"],\n",
    "#\"strange_stories\":[\"multiple_choice\"],\n",
    "\"snarks\":[],\n",
    "\"dark_humor_detection\":[]\n",
    "}"
   ]
  },
  {
   "cell_type": "code",
   "execution_count": 34,
   "id": "5291597f",
   "metadata": {},
   "outputs": [],
   "source": [
    "extra_tasks_dict = {\n",
    "    \"causal_judgment\": [],\n",
    "    \"cause_and_effect\": [\n",
    "                'one_sentence'\n",
    "              ],\n",
    "    \"com2sense\": [],\n",
    "    \"empirical_judgments\": [],\n",
    "    \"entailed_polarity\": [],\n",
    "    #\"entailed_polarity_hindi\": [],\n",
    "    \"fantasy_reasoning\": [],\n",
    "    \"figure_of_speech_detection\": [],\n",
    "    \"forecasting_subquestions\": [],\n",
    "    #\"goal_step_wikihow\": [],\n",
    "    #\"human_organs_senses\": [],\n",
    "    #\"indic_cause_and_effect\": [],\n",
    "    \"minute_mysteries_qa\": [],\n",
    "    \"moral_permissibility\": [],\n",
    "    \"simple_ethical_questions\": [],\n",
    "    \"tellmewhy\": [],\n",
    "    #\"winowhy\": [],\n",
    "    \"analytic_entailment\": [],\n",
    "    \"auto_categorization\": [],\n",
    "    #\"auto_debugging\": [],\n",
    "    \"boolean_expressions\": [],\n",
    "    #\"checkmate_in_one\": [],\n",
    "    #\"chess_state_tracking\": [],\n",
    "    \"code_line_description\": [],\n",
    "    \"codenames\": [],\n",
    "    #\"conlang_translation\": [],\n",
    "    \"context_definition_alignment\": [],\n",
    "    #\"crass_ai\": [],\n",
    "    \"cryptonite\": [],\n",
    "    \"date_understanding\": [],\n",
    "    #\"dyck_languages\": [],\n",
    "    #\"dynamic_counting\": [],\n",
    "    #\"elementary_math_qa\": [],\n",
    "    \"epistemic_reasoning\": [],\n",
    "    #\"evaluating_information_essentiality\": [],\n",
    "    \"formal_fallacies_syllogisms_negation\": [],\n",
    "    #\"gender_sensitivity_chinese\": [],\n",
    "    \"gender_sensitivity_english\": [],\n",
    "    #\"gre_reading_comprehension\": [],\n",
    "    #\"identify_math_theorems\": [],\n",
    "    #\"intersect_geometry\": [],\n",
    "    #\"kannada\": [],\n",
    "    #\"key_value_maps\": [],\n",
    "    \"language_games\": [],\n",
    "    #\"linguistics_puzzles\": [],\n",
    "    \"logic_grid_puzzle\": [],\n",
    "    #\"logical_args\": [],\n",
    "    \"logical_deduction\": [],\n",
    "    \"logical_fallacy_detection\": [],\n",
    "    #\"navigate\": [],\n",
    "    #\"nonsense_words_grammar\": [],\n",
    "    \"object_counting\": [],\n",
    "    #\"penguins_in_a_table\": [],\n",
    "    #\"physics_questions\": [],\n",
    "    \"presuppositions_as_nli\": [],\n",
    "    #\"program_synthesis\": [],\n",
    "    \"reasoning_about_colored_objects\": [],\n",
    "    #\"repeat_copy_logic\": [],\n",
    "    #\"rephrase\": [],\n",
    "    #\"roots_optimization_and_games\": [],\n",
    "    \"simp_turing_concept\": [],\n",
    "    #\"simple_text_editing\": [],\n",
    "    \"spelling_bee\": [],\n",
    "    #\"strategyqa\": [],\n",
    "    \"sudoku\": [],\n",
    "    #\"sufficient_information\": [],\n",
    "    #\"symbol_interpretation\": [],\n",
    "    #\"temporal_sequences\": [],\n",
    "    #\"timedial\": [],\n",
    "    \"tracking_shuffled_objects\": [],\n",
    "    #\"undo_permutation\": [],\n",
    "    #\"unit_interpretation\": [],\n",
    "    #\"web_of_lies\": [],\n",
    "    #\"word_problems_on_sets_and_graphs\": []\n",
    "}\n",
    "_keys = list(extra_tasks_dict.keys())\n",
    "for _key in _keys:\n",
    "    if _key in bigbench_tasks:\n",
    "        del extra_tasks_dict[_key]"
   ]
  },
  {
   "cell_type": "code",
   "execution_count": 35,
   "id": "9ce4d77c",
   "metadata": {},
   "outputs": [
    {
     "name": "stdout",
     "output_type": "stream",
     "text": [
      "00_dataset_curation.ipynb\t\t       benchmark_output\r\n",
      "01_helm_train_split_dataset_curation.ipynb     bigbench_scenario.py\r\n",
      "02_helm_train_split_bbq.ipynb\t\t       data\r\n",
      "03_helm_train_split_mmlu.ipynb\t\t       data.lock\r\n",
      "04_helm_train_split_truthfulqa.ipynb\t       gsm_data_test\r\n",
      "05_helm_train_split_cnndm.ipynb\t\t       gsm_data_test.lock\r\n",
      "06_helm_train_split_bigbench.ipynb\t       gsm_data_train\r\n",
      "07_make_combined_dataset.ipynb\t\t       gsm_data_train.lock\r\n",
      "08_helm_train_split_bb_stem_moral_tasks.ipynb  new_math_tasks.txt\r\n",
      "09_helm_train_split_gsm8k.ipynb\t\t       plot_curves.ipynb\r\n",
      "10_helm_train_split_mathqa.ipynb\t       word_list_freq.json\r\n"
     ]
    }
   ],
   "source": [
    "!ls ./"
   ]
  },
  {
   "cell_type": "raw",
   "id": "b55f62f7",
   "metadata": {},
   "source": [
    "with open(\"new_math_tasks.txt\", 'r') as fd:\n",
    "    math_list = [x.strip() for x in fd.readlines()]\n",
    "    math_list = set(list(filter(lambda x:x!=\"\", math_list)))"
   ]
  },
  {
   "cell_type": "raw",
   "id": "25cb39cb",
   "metadata": {},
   "source": [
    "for curr_task in math_list:\n",
    "    if curr_task in extra_tasks_dict or curr_task in bigbench_tasks:\n",
    "        print(curr_task)"
   ]
  },
  {
   "cell_type": "raw",
   "id": "6b5f18fd",
   "metadata": {},
   "source": [
    "extra_tasks_dict = dict()\n",
    "for curr_task in math_list:\n",
    "    extra_tasks_dict[curr_task] = []"
   ]
  },
  {
   "cell_type": "code",
   "execution_count": 36,
   "id": "dd09c0cc",
   "metadata": {},
   "outputs": [],
   "source": [
    "extra_tasks_dict = \\\n",
    "{'physics': [''],\n",
    " #'unnatural_in_context_learning': [''],\n",
    " #'evaluating_information_essentiality': [''],\n",
    " #'arithmetic': [''],\n",
    " #'long_context_integration': [''],\n",
    " 'elementary_math_qa': ['question_with_language_hint', 'question_only','mathematical_hint_only','language_hint_only',\\\n",
    "                       'question_with_mathematical_hint'],\n",
    " #'intersect_geometry': [''],\n",
    " #'geometric_shapes': [''],\n",
    " 'simple_arithmetic_json_multiple_choice': [''],\n",
    " 'physics_questions': [''],\n",
    " 'physical_intuition': [''],\n",
    " 'mathematical_induction': [''],\n",
    " #'protein_interacting_sites': [''],\n",
    " #'simple_arithmetic': [''],\n",
    " #'key_value_maps': [''],\n",
    " #'identify_math_theorems': [''],\n",
    " 'chinese_remainder_theorem': [''],\n",
    " 'navigate': [''],\n",
    " 'simple_arithmetic_json_subtasks': ['one_digit','two_digit','three_digit'],\n",
    " #'operators': [''],\n",
    " 'simple_arithmetic_json': [''],\n",
    " #'dynamic_counting': [''],\n",
    " #'program_synthesis': [''],\n",
    " 'unit_interpretation': ['lv0', 'lv1', 'lv2', 'lv3'],\n",
    " 'auto_debugging': [''],\n",
    " #'periodic_elements': ['subtask_1'],\n",
    " 'scientific_press_release': [''],\n",
    " #'roots_optimization_and_games': [''],\n",
    " #'multistep_arithmetic': [''],\n",
    " #'checkmate_in_one': [''],\n",
    " #'repeat_copy_logic': [''],\n",
    " 'unit_conversion': ['unit_identification', 'different_systems'],\n",
    " #'simple_text_editing': [''],\n",
    " #'dyck_languages': [''],\n",
    " #'cryobiology_spanish': [''],\n",
    " 'simple_arithmetic_multiple_targets_json': [''],\n",
    " 'matrixshapes': [''],\n",
    " 'vitaminc_fact_verification': [''],\n",
    " #'modified_arithmetic': ['']\n",
    "}"
   ]
  },
  {
   "cell_type": "code",
   "execution_count": null,
   "id": "56339bbc",
   "metadata": {},
   "outputs": [],
   "source": []
  },
  {
   "cell_type": "raw",
   "id": "aa29b225",
   "metadata": {},
   "source": [
    "-----------------------"
   ]
  },
  {
   "cell_type": "code",
   "execution_count": 37,
   "id": "de400f8c",
   "metadata": {},
   "outputs": [],
   "source": [
    "\n",
    "ans_df = dict()\n"
   ]
  },
  {
   "cell_type": "code",
   "execution_count": null,
   "id": "5ea856b1",
   "metadata": {},
   "outputs": [],
   "source": [
    "    "
   ]
  },
  {
   "cell_type": "raw",
   "id": "d652bd95",
   "metadata": {},
   "source": [
    "-----------"
   ]
  },
  {
   "cell_type": "code",
   "execution_count": 38,
   "id": "f63d7d05",
   "metadata": {},
   "outputs": [
    {
     "name": "stdout",
     "output_type": "stream",
     "text": [
      "##########\n",
      "TASK is:  physics\n",
      "ensure_file_downloaded {\n",
      "  Not downloading https://raw.githubusercontent.com/google/BIG-bench/main/bigbench/benchmark_tasks/physics/task.json because ../01_helm_eval_setup/benchmark_output/scenarios/big_bench/physics/physics/task.json already exists\n",
      "} [0.001s]\n",
      "TRAIN-TEST SPLIT are:  Counter({'train': 139, 'valid': 45, 'test': 45})\n",
      "##########\n",
      "TASK is:  elementary_math_qa\n",
      "ensure_file_downloaded {\n",
      "  Not downloading https://raw.githubusercontent.com/google/BIG-bench/main/bigbench/benchmark_tasks/elementary_math_qa/question_with_language_hint/task.json because ../01_helm_eval_setup/benchmark_output/scenarios/big_bench/elementary_math_qa/question_with_language_hint/elementary_math_qa/question_with_language_hint/task.json already exists\n",
      "} [0.0s]\n",
      "TRAIN-TEST SPLIT are:  Counter({'train': 80, 'valid': 10, 'test': 10})\n",
      "ensure_file_downloaded {\n",
      "  Not downloading https://raw.githubusercontent.com/google/BIG-bench/main/bigbench/benchmark_tasks/elementary_math_qa/question_only/task.json because ../01_helm_eval_setup/benchmark_output/scenarios/big_bench/elementary_math_qa/question_only/elementary_math_qa/question_only/task.json already exists\n",
      "} [0.0s]\n",
      "TRAIN-TEST SPLIT are:  Counter({'train': 80, 'valid': 10, 'test': 10})\n",
      "ensure_file_downloaded {\n",
      "  Not downloading https://raw.githubusercontent.com/google/BIG-bench/main/bigbench/benchmark_tasks/elementary_math_qa/mathematical_hint_only/task.json because ../01_helm_eval_setup/benchmark_output/scenarios/big_bench/elementary_math_qa/mathematical_hint_only/elementary_math_qa/mathematical_hint_only/task.json already exists\n",
      "} [0.001s]\n",
      "TRAIN-TEST SPLIT are:  Counter({'train': 80, 'valid': 10, 'test': 10})\n",
      "ensure_file_downloaded {\n",
      "  Not downloading https://raw.githubusercontent.com/google/BIG-bench/main/bigbench/benchmark_tasks/elementary_math_qa/language_hint_only/task.json because ../01_helm_eval_setup/benchmark_output/scenarios/big_bench/elementary_math_qa/language_hint_only/elementary_math_qa/language_hint_only/task.json already exists\n",
      "} [0.0s]\n",
      "TRAIN-TEST SPLIT are:  Counter({'train': 80, 'valid': 10, 'test': 10})\n",
      "ensure_file_downloaded {\n",
      "  Not downloading https://raw.githubusercontent.com/google/BIG-bench/main/bigbench/benchmark_tasks/elementary_math_qa/question_with_mathematical_hint/task.json because ../01_helm_eval_setup/benchmark_output/scenarios/big_bench/elementary_math_qa/question_with_mathematical_hint/elementary_math_qa/question_with_mathematical_hint/task.json already exists\n",
      "} [0.0s]\n",
      "TRAIN-TEST SPLIT are:  Counter({'train': 80, 'valid': 10, 'test': 10})\n",
      "##########\n",
      "TASK is:  simple_arithmetic_json_multiple_choice\n",
      "ensure_file_downloaded {\n",
      "  Not downloading https://raw.githubusercontent.com/google/BIG-bench/main/bigbench/benchmark_tasks/simple_arithmetic_json_multiple_choice/task.json because ../01_helm_eval_setup/benchmark_output/scenarios/big_bench/simple_arithmetic_json_multiple_choice/simple_arithmetic_json_multiple_choice/task.json already exists\n",
      "} [0.0s]\n",
      "TRAIN-TEST SPLIT are:  Counter({'valid': 8})\n",
      "##########\n",
      "TASK is:  physics_questions\n",
      "ensure_file_downloaded {\n",
      "  Not downloading https://raw.githubusercontent.com/google/BIG-bench/main/bigbench/benchmark_tasks/physics_questions/task.json because ../01_helm_eval_setup/benchmark_output/scenarios/big_bench/physics_questions/physics_questions/task.json already exists\n",
      "} [0.0s]\n",
      "TRAIN-TEST SPLIT are:  Counter({'train': 11, 'valid': 6, 'test': 4})\n",
      "##########\n",
      "TASK is:  physical_intuition\n",
      "ensure_file_downloaded {\n",
      "  Not downloading https://raw.githubusercontent.com/google/BIG-bench/main/bigbench/benchmark_tasks/physical_intuition/task.json because ../01_helm_eval_setup/benchmark_output/scenarios/big_bench/physical_intuition/physical_intuition/task.json already exists\n",
      "} [0.0s]\n",
      "TRAIN-TEST SPLIT are:  Counter({'train': 49, 'valid': 16, 'test': 16})\n",
      "##########\n",
      "TASK is:  mathematical_induction\n",
      "ensure_file_downloaded {\n",
      "  Not downloading https://raw.githubusercontent.com/google/BIG-bench/main/bigbench/benchmark_tasks/mathematical_induction/task.json because ../01_helm_eval_setup/benchmark_output/scenarios/big_bench/mathematical_induction/mathematical_induction/task.json already exists\n",
      "} [0.0s]\n",
      "TRAIN-TEST SPLIT are:  Counter({'train': 38, 'valid': 16, 'test': 16})\n",
      "##########\n",
      "TASK is:  chinese_remainder_theorem\n",
      "ensure_file_downloaded {\n",
      "  Not downloading https://raw.githubusercontent.com/google/BIG-bench/main/bigbench/benchmark_tasks/chinese_remainder_theorem/task.json because ../01_helm_eval_setup/benchmark_output/scenarios/big_bench/chinese_remainder_theorem/chinese_remainder_theorem/task.json already exists\n",
      "} [0.0s]\n",
      "TRAIN-TEST SPLIT are:  Counter({'train': 300, 'valid': 50, 'test': 50})\n",
      "##########\n",
      "TASK is:  navigate\n",
      "ensure_file_downloaded {\n",
      "  Not downloading https://raw.githubusercontent.com/google/BIG-bench/main/bigbench/benchmark_tasks/navigate/task.json because ../01_helm_eval_setup/benchmark_output/scenarios/big_bench/navigate/navigate/task.json already exists\n",
      "} [0.0s]\n",
      "TRAIN-TEST SPLIT are:  Counter({'train': 300, 'valid': 50, 'test': 50})\n",
      "##########\n",
      "TASK is:  simple_arithmetic_json_subtasks\n",
      "ensure_file_downloaded {\n",
      "  Not downloading https://raw.githubusercontent.com/google/BIG-bench/main/bigbench/benchmark_tasks/simple_arithmetic_json_subtasks/one_digit/task.json because ../01_helm_eval_setup/benchmark_output/scenarios/big_bench/simple_arithmetic_json_subtasks/one_digit/simple_arithmetic_json_subtasks/one_digit/task.json already exists\n",
      "} [0.0s]\n",
      "TRAIN-TEST SPLIT are:  Counter({'valid': 10})\n",
      "ensure_file_downloaded {\n",
      "  Not downloading https://raw.githubusercontent.com/google/BIG-bench/main/bigbench/benchmark_tasks/simple_arithmetic_json_subtasks/two_digit/task.json because ../01_helm_eval_setup/benchmark_output/scenarios/big_bench/simple_arithmetic_json_subtasks/two_digit/simple_arithmetic_json_subtasks/two_digit/task.json already exists\n",
      "} [0.0s]\n",
      "TRAIN-TEST SPLIT are:  Counter({'valid': 10})\n",
      "ensure_file_downloaded {\n",
      "  Not downloading https://raw.githubusercontent.com/google/BIG-bench/main/bigbench/benchmark_tasks/simple_arithmetic_json_subtasks/three_digit/task.json because ../01_helm_eval_setup/benchmark_output/scenarios/big_bench/simple_arithmetic_json_subtasks/three_digit/simple_arithmetic_json_subtasks/three_digit/task.json already exists\n",
      "} [0.0s]\n",
      "TRAIN-TEST SPLIT are:  Counter({'valid': 10})\n",
      "##########\n",
      "TASK is:  simple_arithmetic_json\n",
      "ensure_file_downloaded {\n",
      "  Not downloading https://raw.githubusercontent.com/google/BIG-bench/main/bigbench/benchmark_tasks/simple_arithmetic_json/task.json because ../01_helm_eval_setup/benchmark_output/scenarios/big_bench/simple_arithmetic_json/simple_arithmetic_json/task.json already exists\n",
      "} [0.0s]\n",
      "TRAIN-TEST SPLIT are:  Counter({'valid': 16, 'test': 14})\n",
      "##########\n",
      "TASK is:  unit_interpretation\n",
      "ensure_file_downloaded {\n",
      "  Not downloading https://raw.githubusercontent.com/google/BIG-bench/main/bigbench/benchmark_tasks/unit_interpretation/lv0/task.json because ../01_helm_eval_setup/benchmark_output/scenarios/big_bench/unit_interpretation/lv0/unit_interpretation/lv0/task.json already exists\n",
      "} [0.0s]\n",
      "TRAIN-TEST SPLIT are:  Counter({'valid': 10, 'test': 9})\n",
      "ensure_file_downloaded {\n",
      "  Not downloading https://raw.githubusercontent.com/google/BIG-bench/main/bigbench/benchmark_tasks/unit_interpretation/lv1/task.json because ../01_helm_eval_setup/benchmark_output/scenarios/big_bench/unit_interpretation/lv1/unit_interpretation/lv1/task.json already exists\n",
      "} [0.0s]\n",
      "TRAIN-TEST SPLIT are:  Counter({'valid': 10, 'test': 9})\n",
      "ensure_file_downloaded {\n",
      "  Not downloading https://raw.githubusercontent.com/google/BIG-bench/main/bigbench/benchmark_tasks/unit_interpretation/lv2/task.json because ../01_helm_eval_setup/benchmark_output/scenarios/big_bench/unit_interpretation/lv2/unit_interpretation/lv2/task.json already exists\n",
      "} [0.0s]\n",
      "TRAIN-TEST SPLIT are:  Counter({'valid': 10, 'test': 9})\n",
      "ensure_file_downloaded {\n",
      "  Not downloading https://raw.githubusercontent.com/google/BIG-bench/main/bigbench/benchmark_tasks/unit_interpretation/lv3/task.json because ../01_helm_eval_setup/benchmark_output/scenarios/big_bench/unit_interpretation/lv3/unit_interpretation/lv3/task.json already exists\n",
      "} [0.0s]\n",
      "TRAIN-TEST SPLIT are:  Counter({'valid': 10, 'test': 9})\n",
      "##########\n",
      "TASK is:  auto_debugging\n",
      "ensure_file_downloaded {\n"
     ]
    },
    {
     "name": "stdout",
     "output_type": "stream",
     "text": [
      "  Not downloading https://raw.githubusercontent.com/google/BIG-bench/main/bigbench/benchmark_tasks/auto_debugging/task.json because ../01_helm_eval_setup/benchmark_output/scenarios/big_bench/auto_debugging/auto_debugging/task.json already exists\n",
      "} [0.0s]\n",
      "TRAIN-TEST SPLIT are:  Counter({'test': 14, 'valid': 13, 'train': 2})\n",
      "##########\n",
      "TASK is:  scientific_press_release\n",
      "ensure_file_downloaded {\n",
      "  Not downloading https://raw.githubusercontent.com/google/BIG-bench/main/bigbench/benchmark_tasks/scientific_press_release/task.json because ../01_helm_eval_setup/benchmark_output/scenarios/big_bench/scientific_press_release/scientific_press_release/task.json already exists\n",
      "} [0.0s]\n",
      "TRAIN-TEST SPLIT are:  Counter({'train': 18, 'valid': 16, 'test': 16})\n",
      "##########\n",
      "TASK is:  unit_conversion\n",
      "ensure_file_downloaded {\n",
      "  Not downloading https://raw.githubusercontent.com/google/BIG-bench/main/bigbench/benchmark_tasks/unit_conversion/unit_identification/task.json because ../01_helm_eval_setup/benchmark_output/scenarios/big_bench/unit_conversion/unit_identification/unit_conversion/unit_identification/task.json already exists\n",
      "} [0.0s]\n",
      "TRAIN-TEST SPLIT are:  Counter({'train': 80, 'valid': 10, 'test': 10})\n",
      "ensure_file_downloaded {\n",
      "  Not downloading https://raw.githubusercontent.com/google/BIG-bench/main/bigbench/benchmark_tasks/unit_conversion/different_systems/task.json because ../01_helm_eval_setup/benchmark_output/scenarios/big_bench/unit_conversion/different_systems/unit_conversion/different_systems/task.json already exists\n",
      "} [0.0s]\n",
      "TRAIN-TEST SPLIT are:  Counter({'train': 80, 'valid': 10, 'test': 10})\n",
      "##########\n",
      "TASK is:  simple_arithmetic_multiple_targets_json\n",
      "ensure_file_downloaded {\n",
      "  Not downloading https://raw.githubusercontent.com/google/BIG-bench/main/bigbench/benchmark_tasks/simple_arithmetic_multiple_targets_json/task.json because ../01_helm_eval_setup/benchmark_output/scenarios/big_bench/simple_arithmetic_multiple_targets_json/simple_arithmetic_multiple_targets_json/task.json already exists\n",
      "} [0.0s]\n",
      "TRAIN-TEST SPLIT are:  Counter({'valid': 4})\n",
      "##########\n",
      "TASK is:  matrixshapes\n",
      "ensure_file_downloaded {\n",
      "  Not downloading https://raw.githubusercontent.com/google/BIG-bench/main/bigbench/benchmark_tasks/matrixshapes/task.json because ../01_helm_eval_setup/benchmark_output/scenarios/big_bench/matrixshapes/matrixshapes/task.json already exists\n",
      "} [0.001s]\n",
      "TRAIN-TEST SPLIT are:  Counter({'train': 300, 'valid': 50, 'test': 50})\n",
      "##########\n",
      "TASK is:  vitaminc_fact_verification\n",
      "ensure_file_downloaded {\n",
      "  Not downloading https://raw.githubusercontent.com/google/BIG-bench/main/bigbench/benchmark_tasks/vitaminc_fact_verification/task.json because ../01_helm_eval_setup/benchmark_output/scenarios/big_bench/vitaminc_fact_verification/vitaminc_fact_verification/task.json already exists\n",
      "} [0.0s]\n",
      "TRAIN-TEST SPLIT are:  Counter({'train': 300, 'valid': 50, 'test': 50})\n"
     ]
    }
   ],
   "source": [
    "dict_to_use = extra_tasks_dict\n",
    "for curr_task in dict_to_use:\n",
    "    print(\"##########\")\n",
    "    print(\"TASK is: \", curr_task)\n",
    "    try:\n",
    "        if len(dict_to_use[curr_task])==0:\n",
    "            dict_to_use[curr_task]=  [\"\"]\n",
    "        for subtask in dict_to_use[curr_task]:\n",
    "            big_bench_obj = BIGBenchScenario(curr_task, subtask)\n",
    "            if subtask == \"\":\n",
    "                big_bench_obj.output_path = f\"../01_helm_eval_setup/benchmark_output/scenarios/big_bench/{curr_task}\"\n",
    "            else:\n",
    "                big_bench_obj.output_path = f\"../01_helm_eval_setup/benchmark_output/scenarios/big_bench/{curr_task}/{subtask}\"\n",
    "            ans = big_bench_obj.get_instances(big_bench_obj.output_path)\n",
    "            ans = list(filter(lambda x:helper.fetch_num_correct_options(x)==1, ans))\n",
    "            random.shuffle(ans)\n",
    "            if subtask == \"\":       \n",
    "                _tmp_train = list(filter(lambda x:x.split=='train', ans))[:300]\n",
    "                _tmp_valid = list(filter(lambda x:x.split=='valid', ans))[:50]\n",
    "                _tmp_test = list(filter(lambda x:x.split=='test', ans))[:50]\n",
    "            else:\n",
    "                _tmp_train = list(filter(lambda x:x.split=='train', ans))[:80]\n",
    "                _tmp_valid = list(filter(lambda x:x.split=='valid', ans))[:10]\n",
    "                _tmp_test = list(filter(lambda x:x.split=='test', ans))[:10]\n",
    "                '''if len(_tmp_train) == 0:\n",
    "                    _tmp_train = _tmp_valid\n",
    "                    for _elem in _tmp_train:\n",
    "                        _elem.split = \"train\"\n",
    "                    _tmp_valid = []'''\n",
    "            \n",
    "            ans = _tmp_train + _tmp_valid + _tmp_test\n",
    "            _tag  = curr_task+\"|\"+subtask\n",
    "            ans_df[_tag] = ans\n",
    "            print(\"TRAIN-TEST SPLIT are: \", Counter([x.split for x in ans]))\n",
    "    except Exception as E:\n",
    "        print(\"Error is: \", E)"
   ]
  },
  {
   "cell_type": "code",
   "execution_count": 39,
   "id": "71e9fc47",
   "metadata": {
    "scrolled": true
   },
   "outputs": [
    {
     "name": "stdout",
     "output_type": "stream",
     "text": [
      "Key:  physics|  | Split:  Counter({'train': 139, 'valid': 45, 'test': 45})\n",
      "Key:  elementary_math_qa|question_with_language_hint  | Split:  Counter({'train': 80, 'valid': 10, 'test': 10})\n",
      "Key:  elementary_math_qa|question_only  | Split:  Counter({'train': 80, 'valid': 10, 'test': 10})\n",
      "Key:  elementary_math_qa|mathematical_hint_only  | Split:  Counter({'train': 80, 'valid': 10, 'test': 10})\n",
      "Key:  elementary_math_qa|language_hint_only  | Split:  Counter({'train': 80, 'valid': 10, 'test': 10})\n",
      "Key:  elementary_math_qa|question_with_mathematical_hint  | Split:  Counter({'train': 80, 'valid': 10, 'test': 10})\n",
      "Key:  simple_arithmetic_json_multiple_choice|  | Split:  Counter({'valid': 8})\n",
      "Key:  physics_questions|  | Split:  Counter({'train': 11, 'valid': 6, 'test': 4})\n",
      "Key:  physical_intuition|  | Split:  Counter({'train': 49, 'valid': 16, 'test': 16})\n",
      "Key:  mathematical_induction|  | Split:  Counter({'train': 38, 'valid': 16, 'test': 16})\n",
      "Key:  chinese_remainder_theorem|  | Split:  Counter({'train': 300, 'valid': 50, 'test': 50})\n",
      "Key:  navigate|  | Split:  Counter({'train': 300, 'valid': 50, 'test': 50})\n",
      "Key:  simple_arithmetic_json_subtasks|one_digit  | Split:  Counter({'valid': 10})\n",
      "Key:  simple_arithmetic_json_subtasks|two_digit  | Split:  Counter({'valid': 10})\n",
      "Key:  simple_arithmetic_json_subtasks|three_digit  | Split:  Counter({'valid': 10})\n",
      "Key:  simple_arithmetic_json|  | Split:  Counter({'valid': 16, 'test': 14})\n",
      "Key:  unit_interpretation|lv0  | Split:  Counter({'valid': 10, 'test': 9})\n",
      "Key:  unit_interpretation|lv1  | Split:  Counter({'valid': 10, 'test': 9})\n",
      "Key:  unit_interpretation|lv2  | Split:  Counter({'valid': 10, 'test': 9})\n",
      "Key:  unit_interpretation|lv3  | Split:  Counter({'valid': 10, 'test': 9})\n",
      "Key:  auto_debugging|  | Split:  Counter({'test': 14, 'valid': 13, 'train': 2})\n",
      "Key:  scientific_press_release|  | Split:  Counter({'train': 18, 'valid': 16, 'test': 16})\n",
      "Key:  unit_conversion|unit_identification  | Split:  Counter({'train': 80, 'valid': 10, 'test': 10})\n",
      "Key:  unit_conversion|different_systems  | Split:  Counter({'train': 80, 'valid': 10, 'test': 10})\n",
      "Key:  simple_arithmetic_multiple_targets_json|  | Split:  Counter({'valid': 4})\n",
      "Key:  matrixshapes|  | Split:  Counter({'train': 300, 'valid': 50, 'test': 50})\n",
      "Key:  vitaminc_fact_verification|  | Split:  Counter({'train': 300, 'valid': 50, 'test': 50})\n"
     ]
    }
   ],
   "source": [
    "for curr_key, curr_val in ans_df.items():\n",
    "    print(\"Key: \", curr_key, \" | Split: \", Counter([x.split for x in curr_val]) )\n",
    "    #print(curr_val[0].input.text)"
   ]
  },
  {
   "cell_type": "raw",
   "id": "fe108dbe",
   "metadata": {},
   "source": [
    "-----"
   ]
  },
  {
   "cell_type": "markdown",
   "id": "74a16b97",
   "metadata": {},
   "source": [
    "```python\n",
    "adapter_spec = AdapterSpec(\n",
    "        method=get_adaptation_method(big_bench_task[\"metrics\"]),\n",
    "        model=\"openai/text-curie-001\",  # Can override with the `ModelRunExpander`.\n",
    "        max_train_instances=5,  # Can override with the `MaxTrainInstancesRunExpander`.\n",
    "        num_outputs=1,  # Can override with the `NumOutputsRunExpander`.\n",
    "        # From \"Beyond the Imitation Game: Quantifying and extrapolating the capabilities of language models\",\n",
    "        # for the BIG-G models tested on BIG-bench, \"we use an input context length of 1,024 tokens\n",
    "        # and an output length of 64 tokens. We evaluate on up to 1,000 examples per task\".\n",
    "        max_tokens=64,\n",
    "        # \"all model outputs were sampled greedily (with zero temperature), unless otherwise noted.\"\n",
    "        temperature=0,\n",
    "        instructions=big_bench_task.get(\"task_prefix\", \"\"),\n",
    "        # BIG-bench's default value for \"example_input_prefix\" and \"example_output_prefix\" was \"\\nQ: \" and \"\\nA: \".\n",
    "        # Instead, use our defaults for multiple choice tasks: \"Question: \" and \"\\nAnswer: \".\n",
    "        input_prefix=big_bench_task.get(\"example_input_prefix\", \"Question: \"),\n",
    "        output_prefix=big_bench_task.get(\"example_output_prefix\", \"Answer: \"),\n",
    "        # Use our default for multiple choice: A., B., C., D.,...\n",
    "        # reference_prefix=big_bench_task.get(\"choice_prefix\", \"\\n choice: \"),\n",
    "        # The default value for \"stop_string\" in BIG-bench is None.\n",
    "        stop_sequences=[str(big_bench_task.get(\"stop_string\"))] if big_bench_task.get(\"stop_string\", None) else [],\n",
    "    )\n",
    "```"
   ]
  },
  {
   "cell_type": "code",
   "execution_count": 40,
   "id": "c877a2be",
   "metadata": {},
   "outputs": [],
   "source": [
    "BASE_DIR = \"../01_helm_eval_setup/benchmark_output/scenarios/big_bench\""
   ]
  },
  {
   "cell_type": "code",
   "execution_count": 41,
   "id": "49fad5d9",
   "metadata": {
    "scrolled": true
   },
   "outputs": [
    {
     "name": "stdout",
     "output_type": "stream",
     "text": [
      "#################\n",
      "-------  physics|  --------- \n",
      "physics  ../01_helm_eval_setup/benchmark_output/scenarios/big_bench/physics/physics/task.json\n",
      "Identify the physics formula that would be most useful for finding the answer to each of the following word problems.\n",
      "\n",
      "Question: A car sits in an entrance ramp to a freeway, waiting for a break in traffic. The driver sees a small gap between two vehicles and accelerates with constant acceleration along the ramp onto the freeway. The car starts from rest, moves in a straight line, and has a speed of 20 m/s when it reaches the end of the 120-m ramp. How much time does it take the car to reach the end of the ramp?\n",
      "A. p = m * v\n",
      "B. dx = v * dt\n",
      "C. F = dp / dt\n",
      "D. v = v_0 + a * t\n",
      "Answer: \n",
      "OUTPUT::: D\n",
      "#################\n",
      "-------  elementary_math_qa|question_with_language_hint  --------- \n",
      "elementary_math_qa question_with_language_hint ../01_helm_eval_setup/benchmark_output/scenarios/big_bench/elementary_math_qa/question_with_language_hint/elementary_math_qa/question_with_language_hint/task.json\n",
      "\n",
      "What is the answer to the following math word problem, with the given hint?:in a small snack shop , the average ( arithmetic mean ) revenue was $ 400 per day over a 10 - day period . during this period , if the average daily revenue was $ 360 for the first 6 days , what was the average daily revenue for the last 4 days ?\n",
      "multiply 10 to 400, multiply 6 to 360, and then subtract both. divide result by 4,\n",
      "A. $ 460\n",
      "B. $ 480\n",
      "C. $ 420\n",
      "D. $ 440\n",
      "E. $ 450\n",
      "Answer: \n",
      "OUTPUT::: A\n",
      "#################\n",
      "-------  elementary_math_qa|question_only  --------- \n",
      "elementary_math_qa question_only ../01_helm_eval_setup/benchmark_output/scenarios/big_bench/elementary_math_qa/question_only/elementary_math_qa/question_only/task.json\n",
      "\n",
      "What is the answer to the following math word problem?:in a small snack shop , the average ( arithmetic mean ) revenue was $ 400 per day over a 10 - day period . during this period , if the average daily revenue was $ 360 for the first 6 days , what was the average daily revenue for the last 4 days ?\n",
      "A. $ 480\n",
      "B. $ 450\n",
      "C. $ 460\n",
      "D. $ 420\n",
      "E. $ 440\n",
      "Answer: \n",
      "OUTPUT::: C\n",
      "#################\n",
      "-------  elementary_math_qa|mathematical_hint_only  --------- \n",
      "elementary_math_qa mathematical_hint_only ../01_helm_eval_setup/benchmark_output/scenarios/big_bench/elementary_math_qa/mathematical_hint_only/elementary_math_qa/mathematical_hint_only/task.json\n",
      "\n",
      "What is the result of the following arithmetic operations?:divide(subtract(multiply(400, 10), multiply(360, 6)), 4)\n",
      "A. $ 420\n",
      "B. $ 450\n",
      "C. $ 440\n",
      "D. $ 460\n",
      "E. $ 480\n",
      "Answer: \n",
      "OUTPUT::: D\n",
      "#################\n",
      "-------  elementary_math_qa|language_hint_only  --------- \n",
      "elementary_math_qa language_hint_only ../01_helm_eval_setup/benchmark_output/scenarios/big_bench/elementary_math_qa/language_hint_only/elementary_math_qa/language_hint_only/task.json\n",
      "\n",
      "What is the result of the following arithmetic operations?:multiply 10 to 400, multiply 6 to 360, and then subtract both. divide result by 4,\n",
      "A. $ 440\n",
      "B. $ 450\n",
      "C. $ 480\n",
      "D. $ 460\n",
      "E. $ 420\n",
      "Answer: \n",
      "OUTPUT::: D\n",
      "#################\n",
      "-------  elementary_math_qa|question_with_mathematical_hint  --------- \n",
      "elementary_math_qa question_with_mathematical_hint ../01_helm_eval_setup/benchmark_output/scenarios/big_bench/elementary_math_qa/question_with_mathematical_hint/elementary_math_qa/question_with_mathematical_hint/task.json\n",
      "\n",
      "What is the answer to the following math word problem, with the given hint?:in a small snack shop , the average ( arithmetic mean ) revenue was $ 400 per day over a 10 - day period . during this period , if the average daily revenue was $ 360 for the first 6 days , what was the average daily revenue for the last 4 days ?\n",
      "divide(subtract(multiply(400, 10), multiply(360, 6)), 4)\n",
      "A. $ 440\n",
      "B. $ 450\n",
      "C. $ 480\n",
      "D. $ 460\n",
      "E. $ 420\n",
      "Answer: \n",
      "OUTPUT::: D\n",
      "#################\n",
      "-------  simple_arithmetic_json_multiple_choice|  --------- \n",
      "simple_arithmetic_json_multiple_choice  ../01_helm_eval_setup/benchmark_output/scenarios/big_bench/simple_arithmetic_json_multiple_choice/simple_arithmetic_json_multiple_choice/task.json\n",
      "Question: 8 + 1 =\n",
      "A. 9\n",
      "B. 3\n",
      "C. 6\n",
      "D. 4\n",
      "Answer: \n",
      "OUTPUT::: A\n",
      "#################\n",
      "-------  physics_questions|  --------- \n",
      "physics_questions  ../01_helm_eval_setup/benchmark_output/scenarios/big_bench/physics_questions/physics_questions/task.json\n",
      "Question: Cynthia competes in luge competitions during the winter months. She rides solo on a small sled 3 inches off the ground down icy slopes, turning only by use of her feet and the shifting of her weight on the sled. During the initial stage of one downhill luge, Cynthia accelerated from rest at 7.25 m/s/s for 2.85 seconds. Determine the distance she moved during this acceleration phase.\n",
      "Answer: \n",
      "OUTPUT::: 29.4 m\n",
      "#################\n",
      "-------  physical_intuition|  --------- \n",
      "physical_intuition  ../01_helm_eval_setup/benchmark_output/scenarios/big_bench/physical_intuition/physical_intuition/task.json\n",
      "Question: I stand to your right and throw a ball to you. Which direction is the opposite of the direction in which the ball travels?\n",
      "A. Left\n",
      "B. Right\n",
      "C. Up\n",
      "D. Down\n",
      "Answer: \n",
      "OUTPUT::: B\n",
      "#################\n",
      "-------  mathematical_induction|  --------- \n",
      "mathematical_induction  ../01_helm_eval_setup/benchmark_output/scenarios/big_bench/mathematical_induction/mathematical_induction/task.json\n",
      "Question: A complete graph with one vertex has no edge. Given that a complete graph K_k has k(k-1)/2 edges, we can compute the number of edges in K_{k+1} by adding an edge between the new vertex and each existing vertex. This adds k new edges, so the graph K_{k+1} has k(k+1)/2 edges. Therefore, a complete graph K_n has n(n-1)/2 edges for any positive integer n.\n",
      "A. No\n",
      "B. Yes\n",
      " Is this a correct induction argument (even though some of the assumptions may be incorrect)?\n",
      "A: \n",
      "OUTPUT::: B\n",
      "#################\n",
      "-------  chinese_remainder_theorem|  --------- \n",
      "chinese_remainder_theorem  ../01_helm_eval_setup/benchmark_output/scenarios/big_bench/chinese_remainder_theorem/chinese_remainder_theorem/task.json\n",
      "Question: There is a room of no more than 1085341 tomatoes. If we divide them equally among 31 bears, we have 12 left; if we divide them equally among 157 monkeys, we have 19 left; if we divide them equally among 223 racoons, we have 1 left. How many tomatoes are in the room?\n",
      "Answer: \n",
      "OUTPUT::: 907165\n",
      "#################\n",
      "-------  navigate|  --------- \n",
      "navigate  ../01_helm_eval_setup/benchmark_output/scenarios/big_bench/navigate/navigate/task.json\n",
      "If you follow these instructions, do you return to the starting point?Question: Take 5 steps. Take 2 steps. Turn left. Turn right. Take 8 steps. Take 1 step. Take 7 steps. Take 2 steps. Take 1 step.\n",
      "A. True\n",
      "B. False\n",
      "Answer: \n",
      "OUTPUT::: B\n",
      "#################\n",
      "-------  simple_arithmetic_json_subtasks|one_digit  --------- \n",
      "simple_arithmetic_json_subtasks one_digit ../01_helm_eval_setup/benchmark_output/scenarios/big_bench/simple_arithmetic_json_subtasks/one_digit/simple_arithmetic_json_subtasks/one_digit/task.json\n",
      "Question: 8 + 3 =\n",
      " \n",
      "OUTPUT::: 11\n",
      "#################\n",
      "-------  simple_arithmetic_json_subtasks|two_digit  --------- \n",
      "simple_arithmetic_json_subtasks two_digit ../01_helm_eval_setup/benchmark_output/scenarios/big_bench/simple_arithmetic_json_subtasks/two_digit/simple_arithmetic_json_subtasks/two_digit/task.json\n",
      "Question: 16 + 72 =\n",
      " \n",
      "OUTPUT::: 88\n",
      "#################\n",
      "-------  simple_arithmetic_json_subtasks|three_digit  --------- \n",
      "simple_arithmetic_json_subtasks three_digit ../01_helm_eval_setup/benchmark_output/scenarios/big_bench/simple_arithmetic_json_subtasks/three_digit/simple_arithmetic_json_subtasks/three_digit/task.json\n",
      "Question: 635 + 613 =\n",
      " \n",
      "OUTPUT::: 1248\n",
      "#################\n",
      "-------  simple_arithmetic_json|  --------- \n",
      "simple_arithmetic_json  ../01_helm_eval_setup/benchmark_output/scenarios/big_bench/simple_arithmetic_json/simple_arithmetic_json/task.json\n",
      "Question: 516 + 962 =\n",
      " \n",
      "OUTPUT::: 1478\n",
      "#################\n",
      "-------  unit_interpretation|lv0  --------- \n",
      "unit_interpretation lv0 ../01_helm_eval_setup/benchmark_output/scenarios/big_bench/unit_interpretation/lv0/unit_interpretation/lv0/task.json\n",
      "Please select the option that best replaces '()' in each text input given the chocies presented.\n",
      "Question: 2 programmers per day multiplied by 54 dollars per programmer is ().\n",
      "A. 108 dollars per programmer per day\n",
      "B. 27 dollars per programmer\n",
      "C. 108 programmers per dollar\n",
      "D. 27 dollars per day\n",
      "E. 108 dollars per day\n",
      "Answer: \n",
      "OUTPUT::: E\n",
      "#################\n",
      "-------  unit_interpretation|lv1  --------- \n",
      "unit_interpretation lv1 ../01_helm_eval_setup/benchmark_output/scenarios/big_bench/unit_interpretation/lv1/unit_interpretation/lv1/task.json\n",
      "Please select the option that best replaces '()' in each text input given the chocies presented.\n",
      "Question: A reporter speaks 4 words every 32 minutes. They will speak 224 words in () minutes.\n",
      "A. 128\n",
      "B. 896\n",
      "C. 56\n",
      "D. 28\n",
      "E. 1792\n",
      "Answer: \n",
      "OUTPUT::: E\n",
      "#################\n",
      "-------  unit_interpretation|lv2  --------- \n",
      "unit_interpretation lv2 ../01_helm_eval_setup/benchmark_output/scenarios/big_bench/unit_interpretation/lv2/unit_interpretation/lv2/task.json\n",
      "Please select the option that best replaces '()' in each text input given the chocies presented.\n",
      "Question: A bamboo grows at 3 feet per day, and it grows 12 days to reach the height of maturity. It grows () feet to reach the height of maturity.\n",
      "A. 4\n",
      "B. 12\n",
      "C. 3\n",
      "D. 18\n",
      "E. 36\n",
      "Answer: \n",
      "OUTPUT::: E\n",
      "#################\n",
      "-------  unit_interpretation|lv3  --------- \n",
      "unit_interpretation lv3 ../01_helm_eval_setup/benchmark_output/scenarios/big_bench/unit_interpretation/lv3/unit_interpretation/lv3/task.json\n",
      "Please select the option that best replaces '()' in each text input given the chocies presented.\n",
      "Question: It takes 27 protons and 6 neutrons to make 54 nuclei. It will take () protons and 54 neutrons to make 486 nuclei.\n",
      "A. 27\n",
      "B. 12\n",
      "C. 243\n",
      "D. 9\n",
      "E. 54\n",
      "Answer: \n",
      "OUTPUT::: C\n",
      "#################\n",
      "-------  auto_debugging|  --------- \n",
      "auto_debugging  ../01_helm_eval_setup/benchmark_output/scenarios/big_bench/auto_debugging/auto_debugging/task.json\n",
      "\n",
      "```\n",
      "class MyClass():\n",
      "\tdef __init__(self, param):\n",
      "\t\tself.param = param\n",
      "x = MyClass(5)\n",
      "y = MyClass(x.param)\n",
      "```\n",
      "What is the value of y.param at the end of this program?\n",
      "\n",
      "OUTPUT::: 5\n",
      "#################\n",
      "-------  scientific_press_release|  --------- \n",
      "scientific_press_release  ../01_helm_eval_setup/benchmark_output/scenarios/big_bench/scientific_press_release/scientific_press_release/task.json\n",
      "Write a press release title corresponding to the given scientific headline.\n",
      "Scientific headline: Direct numerical simulation of sharkskin denticles in turbulent channel flow\n",
      "Press release title: \n",
      "OUTPUT::: Sharkskin actually increases drag\n",
      "#################\n",
      "-------  unit_conversion|unit_identification  --------- \n",
      "unit_conversion unit_identification ../01_helm_eval_setup/benchmark_output/scenarios/big_bench/unit_conversion/unit_identification/unit_conversion/unit_identification/task.json\n",
      "\n",
      "When converted to units of cPa, 8 Pa is \n",
      "A. 800.0 cg.\n",
      "B. 800.0 cK.\n",
      "C. 800.0 cPa.\n",
      "\n",
      "OUTPUT::: C\n",
      "#################\n",
      "-------  unit_conversion|different_systems  --------- \n",
      "unit_conversion different_systems ../01_helm_eval_setup/benchmark_output/scenarios/big_bench/unit_conversion/different_systems/unit_conversion/different_systems/task.json\n",
      "\n",
      "When converted to units of kHz, 27 cHz is \n",
      "A. 2.7 hHz.\n",
      "B. 0.00027 kHz.\n",
      "C. 0.000156 kHz.\n",
      "D. 0.000303 kHz.\n",
      "E. 2.7e-05 RPM.\n",
      "\n",
      "OUTPUT::: B\n",
      "#################\n",
      "-------  simple_arithmetic_multiple_targets_json|  --------- \n",
      "simple_arithmetic_multiple_targets_json  ../01_helm_eval_setup/benchmark_output/scenarios/big_bench/simple_arithmetic_multiple_targets_json/simple_arithmetic_multiple_targets_json/task.json\n",
      "Question: 6 + 4 =\n",
      " \n",
      "OUTPUT::: 10\n",
      "#################\n",
      "-------  matrixshapes|  --------- \n",
      "matrixshapes  ../01_helm_eval_setup/benchmark_output/scenarios/big_bench/matrixshapes/matrixshapes/task.json\n",
      "Question: Add a matrix of shape (2,2) to a matrix of shape (2,2). Compute the hadamard product of the result with a matrix of shape (2,2).\n",
      "Answer: \n",
      "OUTPUT::: (2,2)\n",
      "#################\n",
      "-------  vitaminc_fact_verification|  --------- \n",
      "vitaminc_fact_verification  ../01_helm_eval_setup/benchmark_output/scenarios/big_bench/vitaminc_fact_verification/vitaminc_fact_verification/task.json\n"
     ]
    },
    {
     "name": "stdout",
     "output_type": "stream",
     "text": [
      "Based only on the information contained in a brief quote from Wikipedia, answer whether the related claim is True, False or Neither. Use Neither when the Wikipedia quote does not provide the necessary information to resolve the question.\n",
      "\n",
      "\n",
      "Passage: County Durham: Other large settlements in the County include Durham , Bishop Auckland , Consett , Crook , Easington , Newton Aycliffe , Hartlepool , Spennymoor , Ferryhill , Stockton-on-Tees .\n",
      "Claim: Crook , Eastington , Ferryhill , and Stockton-on-Tees are settlements in County Durham .\n",
      "A. Neither\n",
      "B. False\n",
      "C. True\n",
      "\n",
      "True, False, or Neither? \n",
      "OUTPUT::: C\n"
     ]
    }
   ],
   "source": [
    "whole_arr = []\n",
    "\n",
    "bb_id = -1\n",
    "for curr_section in ans_df:\n",
    "    print(\"#################\")\n",
    "    print(\"------- \" , curr_section, \" --------- \")\n",
    "    curr_task, curr_subtask = curr_section.split(\"|\")\n",
    "    if curr_subtask == \"\":\n",
    "        path_to_read = os.path.join(BASE_DIR, curr_task, \"task.json\")\n",
    "    else:\n",
    "        path_to_read = os.path.join(BASE_DIR, curr_task, curr_subtask, curr_task, curr_subtask, \"task.json\")\n",
    "    if not os.path.exists(path_to_read):\n",
    "        path_to_read = os.path.join(BASE_DIR, curr_task, curr_task,  \"task.json\")\n",
    "    print(curr_task, curr_subtask, path_to_read)\n",
    "    try:\n",
    "        with open(path_to_read, 'r') as fd:\n",
    "            inst_df = json.load(fd)\n",
    "    except:\n",
    "        print(\"SKIPPING.\")\n",
    "        print(path_to_read)\n",
    "        continue\n",
    "    ###########################\n",
    "    instructions=inst_df.get(\"task_prefix\", \"\")\n",
    "    input_prefix=inst_df.get(\"example_input_prefix\", \"Question: \")\n",
    "    output_prefix=inst_df.get(\"example_output_prefix\", \"Answer: \")\n",
    "    ############################\n",
    "    for _eg in ans_df[curr_section]:\n",
    "        random.shuffle(_eg.__dict__['references'])\n",
    "        bb_id+=1\n",
    "        obj = dict()\n",
    "        obj['bb_stem_id'] = bb_id\n",
    "        obj['section'] = curr_section\n",
    "        obj['task'] = curr_task\n",
    "        obj['subtask'] = curr_subtask\n",
    "        obj['org_task'] = True if curr_task in bigbench_tasks else False\n",
    "        obj['split_used'] = _eg.split\n",
    "        input_str, correct_option = helper.fetch_general_task(_eg, instructions, input_prefix, output_prefix)\n",
    "        obj['instruction'] = input_str\n",
    "        obj['output'] = correct_option\n",
    "        whole_arr.append(obj)\n",
    "        #break\n",
    "    print(whole_arr[-1]['instruction'])\n",
    "    print(\"OUTPUT:::\", whole_arr[-1]['output'])\n",
    "    #print('$$$$$')\n",
    "    #print(whole_arr[-2]['instruction'])\n",
    "    #print(\"OUTPUT:::\", whole_arr[-2]['output'])\n",
    "    #break\n",
    "    #if curr_section == \"\""
   ]
  },
  {
   "cell_type": "code",
   "execution_count": 42,
   "id": "07f7c80d",
   "metadata": {},
   "outputs": [
    {
     "data": {
      "text/plain": [
       "2927"
      ]
     },
     "execution_count": 42,
     "metadata": {},
     "output_type": "execute_result"
    }
   ],
   "source": [
    "bb_id"
   ]
  },
  {
   "cell_type": "code",
   "execution_count": 43,
   "id": "18f69fa2",
   "metadata": {},
   "outputs": [
    {
     "data": {
      "text/plain": [
       "'\\nTrue, False, or Neither? '"
      ]
     },
     "execution_count": 43,
     "metadata": {},
     "output_type": "execute_result"
    }
   ],
   "source": [
    "output_prefix"
   ]
  },
  {
   "cell_type": "code",
   "execution_count": null,
   "id": "0088d06e",
   "metadata": {},
   "outputs": [],
   "source": []
  },
  {
   "cell_type": "code",
   "execution_count": 44,
   "id": "71247363",
   "metadata": {},
   "outputs": [
    {
     "data": {
      "text/plain": [
       "1"
      ]
     },
     "execution_count": 44,
     "metadata": {},
     "output_type": "execute_result"
    }
   ],
   "source": [
    "helper.fetch_num_correct_options(_eg)"
   ]
  },
  {
   "cell_type": "code",
   "execution_count": 45,
   "id": "de3c2e80",
   "metadata": {},
   "outputs": [
    {
     "data": {
      "text/plain": [
       "2928"
      ]
     },
     "execution_count": 45,
     "metadata": {},
     "output_type": "execute_result"
    }
   ],
   "source": [
    "len(whole_arr)"
   ]
  },
  {
   "cell_type": "code",
   "execution_count": 46,
   "id": "1eda5a60",
   "metadata": {},
   "outputs": [
    {
     "data": {
      "text/plain": [
       "Counter({'train': 2017, 'valid': 480, 'test': 431})"
      ]
     },
     "execution_count": 46,
     "metadata": {},
     "output_type": "execute_result"
    }
   ],
   "source": [
    "Counter([x['split_used'] for x in whole_arr])"
   ]
  },
  {
   "cell_type": "code",
   "execution_count": 47,
   "id": "81ea6f2e",
   "metadata": {},
   "outputs": [
    {
     "name": "stdout",
     "output_type": "stream",
     "text": [
      "Identify the physics formula that would be most useful for finding the answer to each of the following word problems.\n",
      "\n",
      "Question: A cart is initially moving at 0.5 m/s along a track. The cart comes to rest after traveling 1 m. The experiment is repeated on the same track, but now the cart is initially moving at 1 m/s. How far does the cart travel before coming to rest?\n",
      "A. dE = k * λ * dx / x ^ 2\n",
      "B. v = dx / dt\n",
      "C. v ^ 2 = v_0 ^ 2 + 2 * a * d\n",
      "D. E = k * q / r ^ 2\n",
      "Answer: \n"
     ]
    }
   ],
   "source": [
    "print(whole_arr[0]['instruction'])"
   ]
  },
  {
   "cell_type": "code",
   "execution_count": 48,
   "id": "740f5343",
   "metadata": {},
   "outputs": [],
   "source": [
    "train_arr = list(filter(lambda x: \"train\" in x['split_used'], whole_arr))\n",
    "valid_arr = list(filter(lambda x: \"valid\" == x['split_used'], whole_arr))\n",
    "test_arr = list(filter(lambda x: \"test\" == x['split_used'], whole_arr))"
   ]
  },
  {
   "cell_type": "code",
   "execution_count": 49,
   "id": "91b3c7ed",
   "metadata": {},
   "outputs": [
    {
     "data": {
      "text/plain": [
       "{'bb_stem_id': 0,\n",
       " 'section': 'physics|',\n",
       " 'task': 'physics',\n",
       " 'subtask': '',\n",
       " 'org_task': False,\n",
       " 'split_used': 'train',\n",
       " 'instruction': 'Identify the physics formula that would be most useful for finding the answer to each of the following word problems.\\n\\nQuestion: A cart is initially moving at 0.5 m/s along a track. The cart comes to rest after traveling 1 m. The experiment is repeated on the same track, but now the cart is initially moving at 1 m/s. How far does the cart travel before coming to rest?\\nA. dE = k * λ * dx / x ^ 2\\nB. v = dx / dt\\nC. v ^ 2 = v_0 ^ 2 + 2 * a * d\\nD. E = k * q / r ^ 2\\nAnswer: ',\n",
       " 'output': 'B'}"
      ]
     },
     "execution_count": 49,
     "metadata": {},
     "output_type": "execute_result"
    }
   ],
   "source": [
    "train_arr[0]"
   ]
  },
  {
   "cell_type": "code",
   "execution_count": 50,
   "id": "50c82f4a",
   "metadata": {},
   "outputs": [
    {
     "name": "stdout",
     "output_type": "stream",
     "text": [
      "2017\n",
      "Counter({'train': 2017})\n",
      "Counter({'chinese_remainder_theorem|': 300, 'navigate|': 300, 'matrixshapes|': 300, 'vitaminc_fact_verification|': 300, 'physics|': 139, 'elementary_math_qa|question_with_language_hint': 80, 'elementary_math_qa|question_only': 80, 'elementary_math_qa|mathematical_hint_only': 80, 'elementary_math_qa|language_hint_only': 80, 'elementary_math_qa|question_with_mathematical_hint': 80, 'unit_conversion|unit_identification': 80, 'unit_conversion|different_systems': 80, 'physical_intuition|': 49, 'mathematical_induction|': 38, 'scientific_press_release|': 18, 'physics_questions|': 11, 'auto_debugging|': 2})\n"
     ]
    }
   ],
   "source": [
    "arr_look = train_arr\n",
    "print(len(arr_look))\n",
    "print(Counter([x['split_used'] for x in arr_look]))\n",
    "#print(Counter([x['output'] for x in arr_look]))\n",
    "print(Counter([x['section'] for x in arr_look]))\n",
    "#print(Counter([x['perturb_type'] for x in arr_look]))"
   ]
  },
  {
   "cell_type": "code",
   "execution_count": 51,
   "id": "4067813b",
   "metadata": {},
   "outputs": [
    {
     "name": "stdout",
     "output_type": "stream",
     "text": [
      "480\n",
      "Counter({'valid': 480})\n",
      "Counter({'chinese_remainder_theorem|': 50, 'navigate|': 50, 'matrixshapes|': 50, 'vitaminc_fact_verification|': 50, 'physics|': 45, 'physical_intuition|': 16, 'mathematical_induction|': 16, 'simple_arithmetic_json|': 16, 'scientific_press_release|': 16, 'auto_debugging|': 13, 'elementary_math_qa|question_with_language_hint': 10, 'elementary_math_qa|question_only': 10, 'elementary_math_qa|mathematical_hint_only': 10, 'elementary_math_qa|language_hint_only': 10, 'elementary_math_qa|question_with_mathematical_hint': 10, 'simple_arithmetic_json_subtasks|one_digit': 10, 'simple_arithmetic_json_subtasks|two_digit': 10, 'simple_arithmetic_json_subtasks|three_digit': 10, 'unit_interpretation|lv0': 10, 'unit_interpretation|lv1': 10, 'unit_interpretation|lv2': 10, 'unit_interpretation|lv3': 10, 'unit_conversion|unit_identification': 10, 'unit_conversion|different_systems': 10, 'simple_arithmetic_json_multiple_choice|': 8, 'physics_questions|': 6, 'simple_arithmetic_multiple_targets_json|': 4})\n"
     ]
    }
   ],
   "source": [
    "arr_look = valid_arr\n",
    "print(len(arr_look))\n",
    "print(Counter([x['split_used'] for x in arr_look]))\n",
    "#print(Counter([x['output'] for x in arr_look]))\n",
    "print(Counter([x['section'] for x in arr_look]))\n",
    "\n",
    "#print(Counter([x['perturb_type'] for x in arr_look]))"
   ]
  },
  {
   "cell_type": "code",
   "execution_count": 52,
   "id": "230f788f",
   "metadata": {
    "scrolled": false
   },
   "outputs": [
    {
     "name": "stdout",
     "output_type": "stream",
     "text": [
      "431\n",
      "Counter({'test': 431})\n",
      "Counter({'chinese_remainder_theorem|': 50, 'navigate|': 50, 'matrixshapes|': 50, 'vitaminc_fact_verification|': 50, 'physics|': 45, 'physical_intuition|': 16, 'mathematical_induction|': 16, 'scientific_press_release|': 16, 'simple_arithmetic_json|': 14, 'auto_debugging|': 14, 'elementary_math_qa|question_with_language_hint': 10, 'elementary_math_qa|question_only': 10, 'elementary_math_qa|mathematical_hint_only': 10, 'elementary_math_qa|language_hint_only': 10, 'elementary_math_qa|question_with_mathematical_hint': 10, 'unit_conversion|unit_identification': 10, 'unit_conversion|different_systems': 10, 'unit_interpretation|lv0': 9, 'unit_interpretation|lv1': 9, 'unit_interpretation|lv2': 9, 'unit_interpretation|lv3': 9, 'physics_questions|': 4})\n"
     ]
    }
   ],
   "source": [
    "arr_look = test_arr\n",
    "print(len(arr_look))\n",
    "print(Counter([x['split_used'] for x in arr_look]))\n",
    "#print(Counter([x['output'] for x in arr_look]))\n",
    "#print(Counter([x['perturb_type'] for x in arr_look]))\n",
    "print(Counter([x['section'] for x in arr_look]))\n"
   ]
  },
  {
   "cell_type": "code",
   "execution_count": 53,
   "id": "06734e5b",
   "metadata": {},
   "outputs": [],
   "source": [
    "random.shuffle(train_arr)\n",
    "random.shuffle(valid_arr)\n",
    "random.shuffle(test_arr)"
   ]
  },
  {
   "cell_type": "code",
   "execution_count": 54,
   "id": "6ba50066",
   "metadata": {},
   "outputs": [],
   "source": [
    "\n",
    "\n",
    "save_path  = \"../../data/new_training_datasets/pegasus_stem_bigbench_train_dataset.json\"\n",
    "with open(save_path, 'w') as fd:\n",
    "    json.dump(train_arr, fd, indent=1)\n",
    "    \n",
    "save_path  = \"../../data/new_training_datasets/pegasus_stem_bigbench_valid_dataset.json\"\n",
    "with open(save_path, 'w') as fd:\n",
    "    json.dump(valid_arr, fd, indent=1)\n",
    "    \n",
    "save_path  = \"../../data/new_training_datasets/pegasus_stem_bigbench_test_dataset.json\"\n",
    "with open(save_path, 'w') as fd:\n",
    "    json.dump(test_arr, fd, indent=1)"
   ]
  },
  {
   "cell_type": "code",
   "execution_count": null,
   "id": "777e461c",
   "metadata": {},
   "outputs": [],
   "source": []
  }
 ],
 "metadata": {
  "kernelspec": {
   "display_name": "wizard_coder_kernel",
   "language": "python",
   "name": "wizard_coder_kernel"
  },
  "language_info": {
   "codemirror_mode": {
    "name": "ipython",
    "version": 3
   },
   "file_extension": ".py",
   "mimetype": "text/x-python",
   "name": "python",
   "nbconvert_exporter": "python",
   "pygments_lexer": "ipython3",
   "version": "3.8.17"
  }
 },
 "nbformat": 4,
 "nbformat_minor": 5
}
