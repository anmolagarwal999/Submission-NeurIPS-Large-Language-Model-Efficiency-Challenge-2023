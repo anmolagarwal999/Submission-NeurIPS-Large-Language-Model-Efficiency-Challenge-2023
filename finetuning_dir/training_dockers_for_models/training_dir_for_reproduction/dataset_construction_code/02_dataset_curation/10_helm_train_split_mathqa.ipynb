{
 "cells": [
  {
   "cell_type": "code",
   "execution_count": 12,
   "id": "d00a4e15",
   "metadata": {},
   "outputs": [],
   "source": [
    "import os, sys, json\n",
    "from collections import Counter\n",
    "import importlib\n",
    "import random\n",
    "from copy import deepcopy\n",
    "\n",
    "random.seed(0)"
   ]
  },
  {
   "cell_type": "markdown",
   "id": "abb73209",
   "metadata": {},
   "source": [
    "/home/anmol/nips_challenge/efficiency_challenge_repo/external_repos/helm/src/helm/benchmark/scenarios/bbq_scenario.py"
   ]
  },
  {
   "cell_type": "markdown",
   "id": "31e5afca",
   "metadata": {},
   "source": [
    "#### Used in:\n",
    "* Robustness\n",
    "* Accuracy\n",
    "* Fairness"
   ]
  },
  {
   "cell_type": "code",
   "execution_count": 13,
   "id": "e83de3f7",
   "metadata": {},
   "outputs": [],
   "source": [
    "sys.path.append('/home/anmol/nips_challenge/efficiency_challenge_repo/external_repos/helm/src/helm/benchmark/scenarios')\n",
    "sys.path.append('/home/anmol/nips_challenge/efficiency_challenge_repo/external_repos/helm/src/helm/benchmark/augmentations/')"
   ]
  },
  {
   "cell_type": "code",
   "execution_count": 14,
   "id": "f752c353",
   "metadata": {},
   "outputs": [],
   "source": [
    "sys.path.append('../')"
   ]
  },
  {
   "cell_type": "code",
   "execution_count": 15,
   "id": "16805330",
   "metadata": {},
   "outputs": [
    {
     "data": {
      "text/plain": [
       "<module 'utils_code.helper' from '/home/anmol/nips_challenge/efficiency_challenge_repo/code/02_dataset_curation/../utils_code/helper.py'>"
      ]
     },
     "execution_count": 15,
     "metadata": {},
     "output_type": "execute_result"
    }
   ],
   "source": [
    "import utils_code.helper as helper\n",
    "importlib.reload(helper)"
   ]
  },
  {
   "cell_type": "markdown",
   "id": "cd253954",
   "metadata": {},
   "source": [
    "```md\n",
    "Given a mathematics problem, determine the answer. Simplify your answer as much as possible.\n",
    "###\n",
    "Problem: How many zeros are at the end of the product 25 $\\times$ 240?\n",
    "Answer: $3$\n",
    "###\n",
    "Problem: In how many ways can 4 books be selected from a shelf of 6 books if the order in which the books are selected does not matter?\n",
    "Answer: $15$\n",
    "###\n",
    "Problem: Calculate $6 \\cdot 8\\frac{1}{3}\n",
    "Answer: $50$\n",
    "###\n",
    "Problem: The first three terms of an arithmetic sequence are 1, 10 and 19, respectively. What is the value of the 21st term?\n",
    "Answer: $181$\n",
    "###\n",
    "Problem: What is $\\left(\\frac{7}{8}\\right)^3 \\cdot \\left(\\frac{7}{8}\\right)^{-3}$?\n",
    "Answer: $1$\n",
    "###\n",
    "Problem: When the binary number $100101110010_2$ is divided by 4, what is the remainder (give your answer in base 10)?\n",
    "Answer: $2$\n",
    "###\n",
    "Problem: Find the distance between the points $(2,1,-4)$ and $(5,8,-3).$\n",
    "Answer: $\\sqrt{59}$\n",
    "###\n",
    "Problem: The faces of an octahedral die are labeled with digits $1$ through $8$. What is the probability, expressed as a common fraction, of rolling a sum of $15$ with a pair of such octahedral dice?\n",
    "Answer: $\\frac{1}{32}$\n",
    "###\n",
    "Problem: For each positive integer $n$, let $n!$ denote the product $1\\cdot 2\\cdot 3\\cdot\\,\\cdots\\,\\cdot (n-1)\\cdot n$.\n",
    "\n",
    "What is the remainder when $9!$ is divided by $10$?\n",
    "Answer: $\n",
    "\n",
    "```"
   ]
  },
  {
   "cell_type": "code",
   "execution_count": 16,
   "id": "9baa260e",
   "metadata": {},
   "outputs": [],
   "source": [
    "import helm\n",
    "from helm.benchmark.scenarios.bbq_scenario import BBQScenario\n",
    "from helm.benchmark.scenarios.truthful_qa_scenario import TruthfulQAScenario\n",
    "from helm.benchmark.scenarios.mmlu_scenario import MMLUScenario\n",
    "from helm.benchmark.scenarios.summarization_scenario import SummarizationScenario\n",
    "from helm.benchmark.scenarios.scenario import Scenario, ScenarioSpec\n",
    "from helm.benchmark.augmentations.mild_mix_perturbation import MildMixPerturbation\n",
    "from helm.benchmark.augmentations.dialect_perturbation import DialectPerturbation\n",
    "from helm.benchmark.augmentations.gender_perturbation import GenderPerturbation\n",
    "from helm.benchmark.augmentations.person_name_perturbation import PersonNamePerturbation\n",
    "from helm.benchmark.scenarios.math_scenario import MATHScenario\n",
    "\n"
   ]
  },
  {
   "cell_type": "markdown",
   "id": "80750d80",
   "metadata": {},
   "source": [
    "####  MathQA dataset"
   ]
  },
  {
   "cell_type": "code",
   "execution_count": 17,
   "id": "71e9fc47",
   "metadata": {},
   "outputs": [],
   "source": [
    "#task_chosen = \"mc_single\"\n",
    "subject_to_tag_mapping = {\n",
    "    \"number_theory\": [\"1\", \"2\", \"3\", \"4\", \"5\"],\n",
    "    \"intermediate_algebra\": [\"1\", \"2\", \"3\", \"4\", \"5\"],\n",
    "    \"algebra\": [\"1\", \"2\", \"3\", \"4\", \"5\"],\n",
    "    \"prealgebra\": [\"1\", \"2\", \"3\", \"4\", \"5\"],\n",
    "    \"geometry\": [\"1\", \"2\", \"3\", \"4\", \"5\"],\n",
    "    \"counting_and_probability\": [\"1\", \"2\", \"3\", \"4\", \"5\"],\n",
    "    \"precalculus\": [\"1\", \"2\", \"3\", \"4\", \"5\"], \n",
    "}\n",
    "\n"
   ]
  },
  {
   "cell_type": "code",
   "execution_count": 18,
   "id": "63cd979c",
   "metadata": {},
   "outputs": [],
   "source": [
    "math_obj = MATHScenario(\"number_theory\", \"2\")"
   ]
  },
  {
   "cell_type": "code",
   "execution_count": 19,
   "id": "f7063241",
   "metadata": {},
   "outputs": [
    {
     "name": "stderr",
     "output_type": "stream",
     "text": [
      "Using custom data configuration default\n",
      "Found cached dataset competition_math (/home/anmol/.cache/huggingface/datasets/competition_math/default/1.0.0/52c6a268ae72ef772498d27551a3f682dac50cd8befddd0326d758cb6908b5f0)\n"
     ]
    },
    {
     "data": {
      "application/vnd.jupyter.widget-view+json": {
       "model_id": "01cdfe84274741ce9691f7b73760b46a",
       "version_major": 2,
       "version_minor": 0
      },
      "text/plain": [
       "  0%|          | 0/2 [00:00<?, ?it/s]"
      ]
     },
     "metadata": {},
     "output_type": "display_data"
    }
   ],
   "source": [
    "ans = math_obj.get_instances()"
   ]
  },
  {
   "cell_type": "code",
   "execution_count": 20,
   "id": "f7cb5ff8",
   "metadata": {},
   "outputs": [
    {
     "data": {
      "text/plain": [
       "Instance(input=Input(text='What is the smallest positive integer that leaves a remainder of 4 when divided by 5 and a remainder of 6 when divided by 7?', multimedia_content=None), references=[Reference(output=Output(text='34', multimedia_content=None), tags=['correct'])], split='train', sub_split=None, id=None, perturbation=None, contrast_inputs=None, contrast_references=None)"
      ]
     },
     "execution_count": 20,
     "metadata": {},
     "output_type": "execute_result"
    }
   ],
   "source": [
    "ans[0]"
   ]
  },
  {
   "cell_type": "raw",
   "id": "44419f4e",
   "metadata": {},
   "source": [
    "--------------"
   ]
  },
  {
   "cell_type": "code",
   "execution_count": 21,
   "id": "dd5bdf80",
   "metadata": {
    "scrolled": true
   },
   "outputs": [
    {
     "name": "stdout",
     "output_type": "stream",
     "text": [
      "number_theory 1 number_theory | 1\n"
     ]
    },
    {
     "name": "stderr",
     "output_type": "stream",
     "text": [
      "Using custom data configuration default\n",
      "Found cached dataset competition_math (/home/anmol/.cache/huggingface/datasets/competition_math/default/1.0.0/52c6a268ae72ef772498d27551a3f682dac50cd8befddd0326d758cb6908b5f0)\n"
     ]
    },
    {
     "data": {
      "application/vnd.jupyter.widget-view+json": {
       "model_id": "b9b60e8f4bb34847befb1eb09b48ccea",
       "version_major": 2,
       "version_minor": 0
      },
      "text/plain": [
       "  0%|          | 0/2 [00:00<?, ?it/s]"
      ]
     },
     "metadata": {},
     "output_type": "display_data"
    },
    {
     "name": "stdout",
     "output_type": "stream",
     "text": [
      "TRAIN-TEST SPLIT are:  Counter({'train': 47, 'test': 30})\n",
      "#######\n",
      "number_theory 2 number_theory | 2\n"
     ]
    },
    {
     "name": "stderr",
     "output_type": "stream",
     "text": [
      "Using custom data configuration default\n",
      "Found cached dataset competition_math (/home/anmol/.cache/huggingface/datasets/competition_math/default/1.0.0/52c6a268ae72ef772498d27551a3f682dac50cd8befddd0326d758cb6908b5f0)\n"
     ]
    },
    {
     "data": {
      "application/vnd.jupyter.widget-view+json": {
       "model_id": "f7989abfefc44a8cb077c11f0c5a0c67",
       "version_major": 2,
       "version_minor": 0
      },
      "text/plain": [
       "  0%|          | 0/2 [00:00<?, ?it/s]"
      ]
     },
     "metadata": {},
     "output_type": "display_data"
    },
    {
     "name": "stdout",
     "output_type": "stream",
     "text": [
      "TRAIN-TEST SPLIT are:  Counter({'train': 80, 'test': 30})\n",
      "#######\n",
      "number_theory 3 number_theory | 3\n"
     ]
    },
    {
     "name": "stderr",
     "output_type": "stream",
     "text": [
      "Using custom data configuration default\n",
      "Found cached dataset competition_math (/home/anmol/.cache/huggingface/datasets/competition_math/default/1.0.0/52c6a268ae72ef772498d27551a3f682dac50cd8befddd0326d758cb6908b5f0)\n"
     ]
    },
    {
     "data": {
      "application/vnd.jupyter.widget-view+json": {
       "model_id": "10f1bbccaa154a8393ee8b21f2e03204",
       "version_major": 2,
       "version_minor": 0
      },
      "text/plain": [
       "  0%|          | 0/2 [00:00<?, ?it/s]"
      ]
     },
     "metadata": {},
     "output_type": "display_data"
    },
    {
     "name": "stdout",
     "output_type": "stream",
     "text": [
      "TRAIN-TEST SPLIT are:  Counter({'train': 80, 'test': 30})\n",
      "#######\n",
      "number_theory 4 number_theory | 4\n"
     ]
    },
    {
     "name": "stderr",
     "output_type": "stream",
     "text": [
      "Using custom data configuration default\n",
      "Found cached dataset competition_math (/home/anmol/.cache/huggingface/datasets/competition_math/default/1.0.0/52c6a268ae72ef772498d27551a3f682dac50cd8befddd0326d758cb6908b5f0)\n"
     ]
    },
    {
     "data": {
      "application/vnd.jupyter.widget-view+json": {
       "model_id": "a9b9cf722b1e429b83f4c7165f82d4cf",
       "version_major": 2,
       "version_minor": 0
      },
      "text/plain": [
       "  0%|          | 0/2 [00:00<?, ?it/s]"
      ]
     },
     "metadata": {},
     "output_type": "display_data"
    },
    {
     "name": "stdout",
     "output_type": "stream",
     "text": [
      "TRAIN-TEST SPLIT are:  Counter({'train': 80, 'test': 30})\n",
      "#######\n",
      "number_theory 5 number_theory | 5\n"
     ]
    },
    {
     "name": "stderr",
     "output_type": "stream",
     "text": [
      "Using custom data configuration default\n",
      "Found cached dataset competition_math (/home/anmol/.cache/huggingface/datasets/competition_math/default/1.0.0/52c6a268ae72ef772498d27551a3f682dac50cd8befddd0326d758cb6908b5f0)\n"
     ]
    },
    {
     "data": {
      "application/vnd.jupyter.widget-view+json": {
       "model_id": "1d01d81c32be4121b00dc00e77b1c803",
       "version_major": 2,
       "version_minor": 0
      },
      "text/plain": [
       "  0%|          | 0/2 [00:00<?, ?it/s]"
      ]
     },
     "metadata": {},
     "output_type": "display_data"
    },
    {
     "name": "stdout",
     "output_type": "stream",
     "text": [
      "TRAIN-TEST SPLIT are:  Counter({'train': 80, 'test': 30})\n",
      "#######\n",
      "intermediate_algebra 1 intermediate_algebra | 1\n"
     ]
    },
    {
     "name": "stderr",
     "output_type": "stream",
     "text": [
      "Using custom data configuration default\n",
      "Found cached dataset competition_math (/home/anmol/.cache/huggingface/datasets/competition_math/default/1.0.0/52c6a268ae72ef772498d27551a3f682dac50cd8befddd0326d758cb6908b5f0)\n"
     ]
    },
    {
     "data": {
      "application/vnd.jupyter.widget-view+json": {
       "model_id": "d74bbe3bbded4f98976091a7b7e7ed84",
       "version_major": 2,
       "version_minor": 0
      },
      "text/plain": [
       "  0%|          | 0/2 [00:00<?, ?it/s]"
      ]
     },
     "metadata": {},
     "output_type": "display_data"
    },
    {
     "name": "stdout",
     "output_type": "stream",
     "text": [
      "TRAIN-TEST SPLIT are:  Counter({'train': 58, 'test': 30})\n",
      "#######\n",
      "intermediate_algebra 2 intermediate_algebra | 2\n"
     ]
    },
    {
     "name": "stderr",
     "output_type": "stream",
     "text": [
      "Using custom data configuration default\n",
      "Found cached dataset competition_math (/home/anmol/.cache/huggingface/datasets/competition_math/default/1.0.0/52c6a268ae72ef772498d27551a3f682dac50cd8befddd0326d758cb6908b5f0)\n"
     ]
    },
    {
     "data": {
      "application/vnd.jupyter.widget-view+json": {
       "model_id": "4c7b1eb67d354099b049d7566c58f615",
       "version_major": 2,
       "version_minor": 0
      },
      "text/plain": [
       "  0%|          | 0/2 [00:00<?, ?it/s]"
      ]
     },
     "metadata": {},
     "output_type": "display_data"
    },
    {
     "name": "stdout",
     "output_type": "stream",
     "text": [
      "TRAIN-TEST SPLIT are:  Counter({'train': 80, 'test': 30})\n",
      "#######\n",
      "intermediate_algebra 3 intermediate_algebra | 3\n"
     ]
    },
    {
     "name": "stderr",
     "output_type": "stream",
     "text": [
      "Using custom data configuration default\n",
      "Found cached dataset competition_math (/home/anmol/.cache/huggingface/datasets/competition_math/default/1.0.0/52c6a268ae72ef772498d27551a3f682dac50cd8befddd0326d758cb6908b5f0)\n"
     ]
    },
    {
     "data": {
      "application/vnd.jupyter.widget-view+json": {
       "model_id": "2ff73fefbf4843c8be55a6f5ff40f7a1",
       "version_major": 2,
       "version_minor": 0
      },
      "text/plain": [
       "  0%|          | 0/2 [00:00<?, ?it/s]"
      ]
     },
     "metadata": {},
     "output_type": "display_data"
    },
    {
     "name": "stdout",
     "output_type": "stream",
     "text": [
      "TRAIN-TEST SPLIT are:  Counter({'train': 80, 'test': 30})\n",
      "#######\n",
      "intermediate_algebra 4 intermediate_algebra | 4\n"
     ]
    },
    {
     "name": "stderr",
     "output_type": "stream",
     "text": [
      "Using custom data configuration default\n",
      "Found cached dataset competition_math (/home/anmol/.cache/huggingface/datasets/competition_math/default/1.0.0/52c6a268ae72ef772498d27551a3f682dac50cd8befddd0326d758cb6908b5f0)\n"
     ]
    },
    {
     "data": {
      "application/vnd.jupyter.widget-view+json": {
       "model_id": "3a7c20d5a2e1439a98a4fe442de11bdd",
       "version_major": 2,
       "version_minor": 0
      },
      "text/plain": [
       "  0%|          | 0/2 [00:00<?, ?it/s]"
      ]
     },
     "metadata": {},
     "output_type": "display_data"
    },
    {
     "name": "stdout",
     "output_type": "stream",
     "text": [
      "TRAIN-TEST SPLIT are:  Counter({'train': 80, 'test': 30})\n",
      "#######\n",
      "intermediate_algebra 5 intermediate_algebra | 5\n"
     ]
    },
    {
     "name": "stderr",
     "output_type": "stream",
     "text": [
      "Using custom data configuration default\n",
      "Found cached dataset competition_math (/home/anmol/.cache/huggingface/datasets/competition_math/default/1.0.0/52c6a268ae72ef772498d27551a3f682dac50cd8befddd0326d758cb6908b5f0)\n"
     ]
    },
    {
     "data": {
      "application/vnd.jupyter.widget-view+json": {
       "model_id": "c85fb6c872894344a75e1fa277ba221e",
       "version_major": 2,
       "version_minor": 0
      },
      "text/plain": [
       "  0%|          | 0/2 [00:00<?, ?it/s]"
      ]
     },
     "metadata": {},
     "output_type": "display_data"
    },
    {
     "name": "stdout",
     "output_type": "stream",
     "text": [
      "TRAIN-TEST SPLIT are:  Counter({'train': 80, 'test': 30})\n",
      "#######\n",
      "algebra 1 algebra | 1\n"
     ]
    },
    {
     "name": "stderr",
     "output_type": "stream",
     "text": [
      "Using custom data configuration default\n",
      "Found cached dataset competition_math (/home/anmol/.cache/huggingface/datasets/competition_math/default/1.0.0/52c6a268ae72ef772498d27551a3f682dac50cd8befddd0326d758cb6908b5f0)\n"
     ]
    },
    {
     "data": {
      "application/vnd.jupyter.widget-view+json": {
       "model_id": "e86ca0d298984f1b8b48a524e144a88d",
       "version_major": 2,
       "version_minor": 0
      },
      "text/plain": [
       "  0%|          | 0/2 [00:00<?, ?it/s]"
      ]
     },
     "metadata": {},
     "output_type": "display_data"
    },
    {
     "name": "stdout",
     "output_type": "stream",
     "text": [
      "TRAIN-TEST SPLIT are:  Counter({'train': 80, 'test': 30})\n",
      "#######\n",
      "algebra 2 algebra | 2\n"
     ]
    },
    {
     "name": "stderr",
     "output_type": "stream",
     "text": [
      "Using custom data configuration default\n",
      "Found cached dataset competition_math (/home/anmol/.cache/huggingface/datasets/competition_math/default/1.0.0/52c6a268ae72ef772498d27551a3f682dac50cd8befddd0326d758cb6908b5f0)\n"
     ]
    },
    {
     "data": {
      "application/vnd.jupyter.widget-view+json": {
       "model_id": "0c60cdd3eefc44a58f4c0a93305561b5",
       "version_major": 2,
       "version_minor": 0
      },
      "text/plain": [
       "  0%|          | 0/2 [00:00<?, ?it/s]"
      ]
     },
     "metadata": {},
     "output_type": "display_data"
    },
    {
     "name": "stdout",
     "output_type": "stream",
     "text": [
      "TRAIN-TEST SPLIT are:  Counter({'train': 80, 'test': 30})\n",
      "#######\n",
      "algebra 3 algebra | 3\n"
     ]
    },
    {
     "name": "stderr",
     "output_type": "stream",
     "text": [
      "Using custom data configuration default\n",
      "Found cached dataset competition_math (/home/anmol/.cache/huggingface/datasets/competition_math/default/1.0.0/52c6a268ae72ef772498d27551a3f682dac50cd8befddd0326d758cb6908b5f0)\n"
     ]
    },
    {
     "data": {
      "application/vnd.jupyter.widget-view+json": {
       "model_id": "2694907ffd82499cb47cbbe7341ca395",
       "version_major": 2,
       "version_minor": 0
      },
      "text/plain": [
       "  0%|          | 0/2 [00:00<?, ?it/s]"
      ]
     },
     "metadata": {},
     "output_type": "display_data"
    },
    {
     "name": "stdout",
     "output_type": "stream",
     "text": [
      "Some error occurred\n",
      "#######\n",
      "algebra 4 algebra | 4\n"
     ]
    },
    {
     "name": "stderr",
     "output_type": "stream",
     "text": [
      "Using custom data configuration default\n",
      "Found cached dataset competition_math (/home/anmol/.cache/huggingface/datasets/competition_math/default/1.0.0/52c6a268ae72ef772498d27551a3f682dac50cd8befddd0326d758cb6908b5f0)\n"
     ]
    },
    {
     "data": {
      "application/vnd.jupyter.widget-view+json": {
       "model_id": "876201813d594d05bd72cb4570419cc3",
       "version_major": 2,
       "version_minor": 0
      },
      "text/plain": [
       "  0%|          | 0/2 [00:00<?, ?it/s]"
      ]
     },
     "metadata": {},
     "output_type": "display_data"
    },
    {
     "name": "stdout",
     "output_type": "stream",
     "text": [
      "TRAIN-TEST SPLIT are:  Counter({'train': 80, 'test': 30})\n",
      "#######\n",
      "algebra 5 algebra | 5\n"
     ]
    },
    {
     "name": "stderr",
     "output_type": "stream",
     "text": [
      "Using custom data configuration default\n",
      "Found cached dataset competition_math (/home/anmol/.cache/huggingface/datasets/competition_math/default/1.0.0/52c6a268ae72ef772498d27551a3f682dac50cd8befddd0326d758cb6908b5f0)\n"
     ]
    },
    {
     "data": {
      "application/vnd.jupyter.widget-view+json": {
       "model_id": "fc13a4bfcc374cde925e810764b79de8",
       "version_major": 2,
       "version_minor": 0
      },
      "text/plain": [
       "  0%|          | 0/2 [00:00<?, ?it/s]"
      ]
     },
     "metadata": {},
     "output_type": "display_data"
    },
    {
     "name": "stdout",
     "output_type": "stream",
     "text": [
      "TRAIN-TEST SPLIT are:  Counter({'train': 80, 'test': 30})\n",
      "#######\n",
      "prealgebra 1 prealgebra | 1\n"
     ]
    },
    {
     "name": "stderr",
     "output_type": "stream",
     "text": [
      "Using custom data configuration default\n",
      "Found cached dataset competition_math (/home/anmol/.cache/huggingface/datasets/competition_math/default/1.0.0/52c6a268ae72ef772498d27551a3f682dac50cd8befddd0326d758cb6908b5f0)\n"
     ]
    },
    {
     "data": {
      "application/vnd.jupyter.widget-view+json": {
       "model_id": "2b43620074584f69977632184d957b3e",
       "version_major": 2,
       "version_minor": 0
      },
      "text/plain": [
       "  0%|          | 0/2 [00:00<?, ?it/s]"
      ]
     },
     "metadata": {},
     "output_type": "display_data"
    },
    {
     "name": "stdout",
     "output_type": "stream",
     "text": [
      "TRAIN-TEST SPLIT are:  Counter({'train': 80, 'test': 30})\n",
      "#######\n",
      "prealgebra 2 prealgebra | 2\n"
     ]
    },
    {
     "name": "stderr",
     "output_type": "stream",
     "text": [
      "Using custom data configuration default\n",
      "Found cached dataset competition_math (/home/anmol/.cache/huggingface/datasets/competition_math/default/1.0.0/52c6a268ae72ef772498d27551a3f682dac50cd8befddd0326d758cb6908b5f0)\n"
     ]
    },
    {
     "data": {
      "application/vnd.jupyter.widget-view+json": {
       "model_id": "7393350628264265a62eeceb958b857e",
       "version_major": 2,
       "version_minor": 0
      },
      "text/plain": [
       "  0%|          | 0/2 [00:00<?, ?it/s]"
      ]
     },
     "metadata": {},
     "output_type": "display_data"
    },
    {
     "name": "stdout",
     "output_type": "stream",
     "text": [
      "TRAIN-TEST SPLIT are:  Counter({'train': 80, 'test': 30})\n",
      "#######\n",
      "prealgebra 3 prealgebra | 3\n"
     ]
    },
    {
     "name": "stderr",
     "output_type": "stream",
     "text": [
      "Using custom data configuration default\n",
      "Found cached dataset competition_math (/home/anmol/.cache/huggingface/datasets/competition_math/default/1.0.0/52c6a268ae72ef772498d27551a3f682dac50cd8befddd0326d758cb6908b5f0)\n"
     ]
    },
    {
     "data": {
      "application/vnd.jupyter.widget-view+json": {
       "model_id": "a356a156a034477ab7ae91b4741f3cbd",
       "version_major": 2,
       "version_minor": 0
      },
      "text/plain": [
       "  0%|          | 0/2 [00:00<?, ?it/s]"
      ]
     },
     "metadata": {},
     "output_type": "display_data"
    },
    {
     "name": "stdout",
     "output_type": "stream",
     "text": [
      "TRAIN-TEST SPLIT are:  Counter({'train': 80, 'test': 30})\n",
      "#######\n",
      "prealgebra 4 prealgebra | 4\n"
     ]
    },
    {
     "name": "stderr",
     "output_type": "stream",
     "text": [
      "Using custom data configuration default\n",
      "Found cached dataset competition_math (/home/anmol/.cache/huggingface/datasets/competition_math/default/1.0.0/52c6a268ae72ef772498d27551a3f682dac50cd8befddd0326d758cb6908b5f0)\n"
     ]
    },
    {
     "data": {
      "application/vnd.jupyter.widget-view+json": {
       "model_id": "502255116ad2402782a533226eae9be7",
       "version_major": 2,
       "version_minor": 0
      },
      "text/plain": [
       "  0%|          | 0/2 [00:00<?, ?it/s]"
      ]
     },
     "metadata": {},
     "output_type": "display_data"
    },
    {
     "name": "stdout",
     "output_type": "stream",
     "text": [
      "TRAIN-TEST SPLIT are:  Counter({'train': 80, 'test': 30})\n",
      "#######\n",
      "prealgebra 5 prealgebra | 5\n"
     ]
    },
    {
     "name": "stderr",
     "output_type": "stream",
     "text": [
      "Using custom data configuration default\n",
      "Found cached dataset competition_math (/home/anmol/.cache/huggingface/datasets/competition_math/default/1.0.0/52c6a268ae72ef772498d27551a3f682dac50cd8befddd0326d758cb6908b5f0)\n"
     ]
    },
    {
     "data": {
      "application/vnd.jupyter.widget-view+json": {
       "model_id": "8e6b56def5aa479a85070cfb5b466dfc",
       "version_major": 2,
       "version_minor": 0
      },
      "text/plain": [
       "  0%|          | 0/2 [00:00<?, ?it/s]"
      ]
     },
     "metadata": {},
     "output_type": "display_data"
    },
    {
     "name": "stdout",
     "output_type": "stream",
     "text": [
      "TRAIN-TEST SPLIT are:  Counter({'train': 80, 'test': 30})\n",
      "#######\n",
      "geometry 1 geometry | 1\n"
     ]
    },
    {
     "name": "stderr",
     "output_type": "stream",
     "text": [
      "Using custom data configuration default\n",
      "Found cached dataset competition_math (/home/anmol/.cache/huggingface/datasets/competition_math/default/1.0.0/52c6a268ae72ef772498d27551a3f682dac50cd8befddd0326d758cb6908b5f0)\n"
     ]
    },
    {
     "data": {
      "application/vnd.jupyter.widget-view+json": {
       "model_id": "99a3dfb5b9fc4cf28d929280ff2727c5",
       "version_major": 2,
       "version_minor": 0
      },
      "text/plain": [
       "  0%|          | 0/2 [00:00<?, ?it/s]"
      ]
     },
     "metadata": {},
     "output_type": "display_data"
    },
    {
     "name": "stdout",
     "output_type": "stream",
     "text": [
      "TRAIN-TEST SPLIT are:  Counter({'train': 41, 'test': 30})\n",
      "#######\n",
      "geometry 2 geometry | 2\n"
     ]
    },
    {
     "name": "stderr",
     "output_type": "stream",
     "text": [
      "Using custom data configuration default\n",
      "Found cached dataset competition_math (/home/anmol/.cache/huggingface/datasets/competition_math/default/1.0.0/52c6a268ae72ef772498d27551a3f682dac50cd8befddd0326d758cb6908b5f0)\n"
     ]
    },
    {
     "data": {
      "application/vnd.jupyter.widget-view+json": {
       "model_id": "65c3ecc30c3246b18123492ee9a56215",
       "version_major": 2,
       "version_minor": 0
      },
      "text/plain": [
       "  0%|          | 0/2 [00:00<?, ?it/s]"
      ]
     },
     "metadata": {},
     "output_type": "display_data"
    },
    {
     "name": "stdout",
     "output_type": "stream",
     "text": [
      "TRAIN-TEST SPLIT are:  Counter({'train': 80, 'test': 30})\n",
      "#######\n",
      "geometry 3 geometry | 3\n"
     ]
    },
    {
     "name": "stderr",
     "output_type": "stream",
     "text": [
      "Using custom data configuration default\n",
      "Found cached dataset competition_math (/home/anmol/.cache/huggingface/datasets/competition_math/default/1.0.0/52c6a268ae72ef772498d27551a3f682dac50cd8befddd0326d758cb6908b5f0)\n"
     ]
    },
    {
     "data": {
      "application/vnd.jupyter.widget-view+json": {
       "model_id": "0bb30811b7534aae8af3e4cdad76134d",
       "version_major": 2,
       "version_minor": 0
      },
      "text/plain": [
       "  0%|          | 0/2 [00:00<?, ?it/s]"
      ]
     },
     "metadata": {},
     "output_type": "display_data"
    },
    {
     "name": "stdout",
     "output_type": "stream",
     "text": [
      "TRAIN-TEST SPLIT are:  Counter({'train': 80, 'test': 30})\n",
      "#######\n",
      "geometry 4 geometry | 4\n"
     ]
    },
    {
     "name": "stderr",
     "output_type": "stream",
     "text": [
      "Using custom data configuration default\n",
      "Found cached dataset competition_math (/home/anmol/.cache/huggingface/datasets/competition_math/default/1.0.0/52c6a268ae72ef772498d27551a3f682dac50cd8befddd0326d758cb6908b5f0)\n"
     ]
    },
    {
     "data": {
      "application/vnd.jupyter.widget-view+json": {
       "model_id": "4719719db9844db69d60ac6fbfa56025",
       "version_major": 2,
       "version_minor": 0
      },
      "text/plain": [
       "  0%|          | 0/2 [00:00<?, ?it/s]"
      ]
     },
     "metadata": {},
     "output_type": "display_data"
    },
    {
     "name": "stdout",
     "output_type": "stream",
     "text": [
      "TRAIN-TEST SPLIT are:  Counter({'train': 80, 'test': 30})\n",
      "#######\n",
      "geometry 5 geometry | 5\n"
     ]
    },
    {
     "name": "stderr",
     "output_type": "stream",
     "text": [
      "Using custom data configuration default\n",
      "Found cached dataset competition_math (/home/anmol/.cache/huggingface/datasets/competition_math/default/1.0.0/52c6a268ae72ef772498d27551a3f682dac50cd8befddd0326d758cb6908b5f0)\n"
     ]
    },
    {
     "data": {
      "application/vnd.jupyter.widget-view+json": {
       "model_id": "14f483f772fc4d67814f1130d7ec89a6",
       "version_major": 2,
       "version_minor": 0
      },
      "text/plain": [
       "  0%|          | 0/2 [00:00<?, ?it/s]"
      ]
     },
     "metadata": {},
     "output_type": "display_data"
    },
    {
     "name": "stdout",
     "output_type": "stream",
     "text": [
      "TRAIN-TEST SPLIT are:  Counter({'train': 80, 'test': 30})\n",
      "#######\n",
      "counting_and_probability 1 counting_and_probability | 1\n"
     ]
    },
    {
     "name": "stderr",
     "output_type": "stream",
     "text": [
      "Using custom data configuration default\n",
      "Found cached dataset competition_math (/home/anmol/.cache/huggingface/datasets/competition_math/default/1.0.0/52c6a268ae72ef772498d27551a3f682dac50cd8befddd0326d758cb6908b5f0)\n"
     ]
    },
    {
     "data": {
      "application/vnd.jupyter.widget-view+json": {
       "model_id": "11870db2513a4d69adb49df6e79421c3",
       "version_major": 2,
       "version_minor": 0
      },
      "text/plain": [
       "  0%|          | 0/2 [00:00<?, ?it/s]"
      ]
     },
     "metadata": {},
     "output_type": "display_data"
    },
    {
     "name": "stdout",
     "output_type": "stream",
     "text": [
      "TRAIN-TEST SPLIT are:  Counter({'train': 50, 'test': 30})\n",
      "#######\n",
      "counting_and_probability 2 counting_and_probability | 2\n"
     ]
    },
    {
     "name": "stderr",
     "output_type": "stream",
     "text": [
      "Using custom data configuration default\n",
      "Found cached dataset competition_math (/home/anmol/.cache/huggingface/datasets/competition_math/default/1.0.0/52c6a268ae72ef772498d27551a3f682dac50cd8befddd0326d758cb6908b5f0)\n"
     ]
    },
    {
     "data": {
      "application/vnd.jupyter.widget-view+json": {
       "model_id": "59451d692ee3419b9c15f34cc0827ba8",
       "version_major": 2,
       "version_minor": 0
      },
      "text/plain": [
       "  0%|          | 0/2 [00:00<?, ?it/s]"
      ]
     },
     "metadata": {},
     "output_type": "display_data"
    },
    {
     "name": "stdout",
     "output_type": "stream",
     "text": [
      "TRAIN-TEST SPLIT are:  Counter({'train': 80, 'test': 30})\n",
      "#######\n",
      "counting_and_probability 3 counting_and_probability | 3\n"
     ]
    },
    {
     "name": "stderr",
     "output_type": "stream",
     "text": [
      "Using custom data configuration default\n",
      "Found cached dataset competition_math (/home/anmol/.cache/huggingface/datasets/competition_math/default/1.0.0/52c6a268ae72ef772498d27551a3f682dac50cd8befddd0326d758cb6908b5f0)\n"
     ]
    },
    {
     "data": {
      "application/vnd.jupyter.widget-view+json": {
       "model_id": "d48b893b418240fdae1c05df7b30f2f3",
       "version_major": 2,
       "version_minor": 0
      },
      "text/plain": [
       "  0%|          | 0/2 [00:00<?, ?it/s]"
      ]
     },
     "metadata": {},
     "output_type": "display_data"
    },
    {
     "name": "stdout",
     "output_type": "stream",
     "text": [
      "TRAIN-TEST SPLIT are:  Counter({'train': 80, 'test': 30})\n",
      "#######\n",
      "counting_and_probability 4 counting_and_probability | 4\n"
     ]
    },
    {
     "name": "stderr",
     "output_type": "stream",
     "text": [
      "Using custom data configuration default\n",
      "Found cached dataset competition_math (/home/anmol/.cache/huggingface/datasets/competition_math/default/1.0.0/52c6a268ae72ef772498d27551a3f682dac50cd8befddd0326d758cb6908b5f0)\n"
     ]
    },
    {
     "data": {
      "application/vnd.jupyter.widget-view+json": {
       "model_id": "9e1ce798f2584bf6b6ff3e8c64dacf0b",
       "version_major": 2,
       "version_minor": 0
      },
      "text/plain": [
       "  0%|          | 0/2 [00:00<?, ?it/s]"
      ]
     },
     "metadata": {},
     "output_type": "display_data"
    },
    {
     "name": "stdout",
     "output_type": "stream",
     "text": [
      "TRAIN-TEST SPLIT are:  Counter({'train': 80, 'test': 30})\n",
      "#######\n",
      "counting_and_probability 5 counting_and_probability | 5\n"
     ]
    },
    {
     "name": "stderr",
     "output_type": "stream",
     "text": [
      "Using custom data configuration default\n",
      "Found cached dataset competition_math (/home/anmol/.cache/huggingface/datasets/competition_math/default/1.0.0/52c6a268ae72ef772498d27551a3f682dac50cd8befddd0326d758cb6908b5f0)\n"
     ]
    },
    {
     "data": {
      "application/vnd.jupyter.widget-view+json": {
       "model_id": "f9294aba3400411bb153569ab308ed44",
       "version_major": 2,
       "version_minor": 0
      },
      "text/plain": [
       "  0%|          | 0/2 [00:00<?, ?it/s]"
      ]
     },
     "metadata": {},
     "output_type": "display_data"
    },
    {
     "name": "stdout",
     "output_type": "stream",
     "text": [
      "TRAIN-TEST SPLIT are:  Counter({'train': 80, 'test': 30})\n",
      "#######\n",
      "precalculus 1 precalculus | 1\n"
     ]
    },
    {
     "name": "stderr",
     "output_type": "stream",
     "text": [
      "Using custom data configuration default\n",
      "Found cached dataset competition_math (/home/anmol/.cache/huggingface/datasets/competition_math/default/1.0.0/52c6a268ae72ef772498d27551a3f682dac50cd8befddd0326d758cb6908b5f0)\n"
     ]
    },
    {
     "data": {
      "application/vnd.jupyter.widget-view+json": {
       "model_id": "7d6ac876309047d9a3357350479023bf",
       "version_major": 2,
       "version_minor": 0
      },
      "text/plain": [
       "  0%|          | 0/2 [00:00<?, ?it/s]"
      ]
     },
     "metadata": {},
     "output_type": "display_data"
    },
    {
     "name": "stdout",
     "output_type": "stream",
     "text": [
      "TRAIN-TEST SPLIT are:  Counter({'train': 64, 'test': 30})\n",
      "#######\n",
      "precalculus 2 precalculus | 2\n"
     ]
    },
    {
     "name": "stderr",
     "output_type": "stream",
     "text": [
      "Using custom data configuration default\n",
      "Found cached dataset competition_math (/home/anmol/.cache/huggingface/datasets/competition_math/default/1.0.0/52c6a268ae72ef772498d27551a3f682dac50cd8befddd0326d758cb6908b5f0)\n"
     ]
    },
    {
     "data": {
      "application/vnd.jupyter.widget-view+json": {
       "model_id": "482732e4aa9a45ef9012832d58b567ac",
       "version_major": 2,
       "version_minor": 0
      },
      "text/plain": [
       "  0%|          | 0/2 [00:00<?, ?it/s]"
      ]
     },
     "metadata": {},
     "output_type": "display_data"
    },
    {
     "name": "stdout",
     "output_type": "stream",
     "text": [
      "TRAIN-TEST SPLIT are:  Counter({'train': 80, 'test': 30})\n",
      "#######\n",
      "precalculus 3 precalculus | 3\n"
     ]
    },
    {
     "name": "stderr",
     "output_type": "stream",
     "text": [
      "Using custom data configuration default\n",
      "Found cached dataset competition_math (/home/anmol/.cache/huggingface/datasets/competition_math/default/1.0.0/52c6a268ae72ef772498d27551a3f682dac50cd8befddd0326d758cb6908b5f0)\n"
     ]
    },
    {
     "data": {
      "application/vnd.jupyter.widget-view+json": {
       "model_id": "906ae36f80da4529a7da230e6924fbb8",
       "version_major": 2,
       "version_minor": 0
      },
      "text/plain": [
       "  0%|          | 0/2 [00:00<?, ?it/s]"
      ]
     },
     "metadata": {},
     "output_type": "display_data"
    },
    {
     "name": "stdout",
     "output_type": "stream",
     "text": [
      "TRAIN-TEST SPLIT are:  Counter({'train': 80, 'test': 30})\n",
      "#######\n",
      "precalculus 4 precalculus | 4\n"
     ]
    },
    {
     "name": "stderr",
     "output_type": "stream",
     "text": [
      "Using custom data configuration default\n",
      "Found cached dataset competition_math (/home/anmol/.cache/huggingface/datasets/competition_math/default/1.0.0/52c6a268ae72ef772498d27551a3f682dac50cd8befddd0326d758cb6908b5f0)\n"
     ]
    },
    {
     "data": {
      "application/vnd.jupyter.widget-view+json": {
       "model_id": "643d8928f6124f8e89e047a3d3a53f5a",
       "version_major": 2,
       "version_minor": 0
      },
      "text/plain": [
       "  0%|          | 0/2 [00:00<?, ?it/s]"
      ]
     },
     "metadata": {},
     "output_type": "display_data"
    },
    {
     "name": "stdout",
     "output_type": "stream",
     "text": [
      "TRAIN-TEST SPLIT are:  Counter({'train': 80, 'test': 30})\n",
      "#######\n",
      "precalculus 5 precalculus | 5\n"
     ]
    },
    {
     "name": "stderr",
     "output_type": "stream",
     "text": [
      "Using custom data configuration default\n",
      "Found cached dataset competition_math (/home/anmol/.cache/huggingface/datasets/competition_math/default/1.0.0/52c6a268ae72ef772498d27551a3f682dac50cd8befddd0326d758cb6908b5f0)\n"
     ]
    },
    {
     "data": {
      "application/vnd.jupyter.widget-view+json": {
       "model_id": "f8a77e3496404b50b63aa660d8350f74",
       "version_major": 2,
       "version_minor": 0
      },
      "text/plain": [
       "  0%|          | 0/2 [00:00<?, ?it/s]"
      ]
     },
     "metadata": {},
     "output_type": "display_data"
    },
    {
     "name": "stdout",
     "output_type": "stream",
     "text": [
      "TRAIN-TEST SPLIT are:  Counter({'train': 80, 'test': 30})\n",
      "#######\n"
     ]
    }
   ],
   "source": [
    "ans_df = dict()\n",
    "for curr_main_subject in subject_to_tag_mapping:\n",
    "    for _tag in subject_to_tag_mapping[curr_main_subject]:\n",
    "        choose_tag = curr_main_subject+\" | \"+_tag\n",
    "        print(curr_main_subject,_tag, choose_tag)\n",
    "        \n",
    "        math_obj = MATHScenario(curr_main_subject,_tag)\n",
    "        try:\n",
    "            ans = math_obj.get_instances()\n",
    "            ans = list(filter(lambda x:helper.fetch_num_correct_options(x)==1, ans))\n",
    "            random.shuffle(ans)\n",
    "            _tmp_train = list(filter(lambda x:x.split=='train', ans))[:80]\n",
    "            _tmp_test = list(filter(lambda x:x.split=='test', ans))[:30]\n",
    "            ans = _tmp_train + _tmp_test\n",
    "            ans_df[choose_tag] = ans\n",
    "            print(\"TRAIN-TEST SPLIT are: \", Counter([x.split for x in ans]))\n",
    "            #break\n",
    "        except:\n",
    "            print(\"Some error occurred\")\n",
    "        print(\"#######\")"
   ]
  },
  {
   "cell_type": "code",
   "execution_count": 22,
   "id": "e5a65408",
   "metadata": {},
   "outputs": [
    {
     "name": "stdout",
     "output_type": "stream",
     "text": [
      "Key:  number_theory | 1  | Split:  Counter({'train': 47, 'test': 30})\n",
      "Key:  number_theory | 2  | Split:  Counter({'train': 80, 'test': 30})\n",
      "Key:  number_theory | 3  | Split:  Counter({'train': 80, 'test': 30})\n",
      "Key:  number_theory | 4  | Split:  Counter({'train': 80, 'test': 30})\n",
      "Key:  number_theory | 5  | Split:  Counter({'train': 80, 'test': 30})\n",
      "Key:  intermediate_algebra | 1  | Split:  Counter({'train': 58, 'test': 30})\n",
      "Key:  intermediate_algebra | 2  | Split:  Counter({'train': 80, 'test': 30})\n",
      "Key:  intermediate_algebra | 3  | Split:  Counter({'train': 80, 'test': 30})\n",
      "Key:  intermediate_algebra | 4  | Split:  Counter({'train': 80, 'test': 30})\n",
      "Key:  intermediate_algebra | 5  | Split:  Counter({'train': 80, 'test': 30})\n",
      "Key:  algebra | 1  | Split:  Counter({'train': 80, 'test': 30})\n",
      "Key:  algebra | 2  | Split:  Counter({'train': 80, 'test': 30})\n",
      "Key:  algebra | 4  | Split:  Counter({'train': 80, 'test': 30})\n",
      "Key:  algebra | 5  | Split:  Counter({'train': 80, 'test': 30})\n",
      "Key:  prealgebra | 1  | Split:  Counter({'train': 80, 'test': 30})\n",
      "Key:  prealgebra | 2  | Split:  Counter({'train': 80, 'test': 30})\n",
      "Key:  prealgebra | 3  | Split:  Counter({'train': 80, 'test': 30})\n",
      "Key:  prealgebra | 4  | Split:  Counter({'train': 80, 'test': 30})\n",
      "Key:  prealgebra | 5  | Split:  Counter({'train': 80, 'test': 30})\n",
      "Key:  geometry | 1  | Split:  Counter({'train': 41, 'test': 30})\n",
      "Key:  geometry | 2  | Split:  Counter({'train': 80, 'test': 30})\n",
      "Key:  geometry | 3  | Split:  Counter({'train': 80, 'test': 30})\n",
      "Key:  geometry | 4  | Split:  Counter({'train': 80, 'test': 30})\n",
      "Key:  geometry | 5  | Split:  Counter({'train': 80, 'test': 30})\n",
      "Key:  counting_and_probability | 1  | Split:  Counter({'train': 50, 'test': 30})\n",
      "Key:  counting_and_probability | 2  | Split:  Counter({'train': 80, 'test': 30})\n",
      "Key:  counting_and_probability | 3  | Split:  Counter({'train': 80, 'test': 30})\n",
      "Key:  counting_and_probability | 4  | Split:  Counter({'train': 80, 'test': 30})\n",
      "Key:  counting_and_probability | 5  | Split:  Counter({'train': 80, 'test': 30})\n",
      "Key:  precalculus | 1  | Split:  Counter({'train': 64, 'test': 30})\n",
      "Key:  precalculus | 2  | Split:  Counter({'train': 80, 'test': 30})\n",
      "Key:  precalculus | 3  | Split:  Counter({'train': 80, 'test': 30})\n",
      "Key:  precalculus | 4  | Split:  Counter({'train': 80, 'test': 30})\n",
      "Key:  precalculus | 5  | Split:  Counter({'train': 80, 'test': 30})\n"
     ]
    }
   ],
   "source": [
    "for curr_key, curr_val in ans_df.items():\n",
    "    print(\"Key: \", curr_key, \" | Split: \", Counter([x.split for x in curr_val]) )"
   ]
  },
  {
   "cell_type": "raw",
   "id": "2b5a59e9",
   "metadata": {},
   "source": [
    "---------"
   ]
  },
  {
   "cell_type": "code",
   "execution_count": 23,
   "id": "49fad5d9",
   "metadata": {
    "scrolled": true
   },
   "outputs": [
    {
     "name": "stdout",
     "output_type": "stream",
     "text": [
      "Curr category is:  number_theory | 1\n",
      "Curr category is:  number_theory | 2\n",
      "Curr category is:  number_theory | 3\n",
      "Curr category is:  number_theory | 4\n",
      "Curr category is:  number_theory | 5\n",
      "Curr category is:  intermediate_algebra | 1\n",
      "Curr category is:  intermediate_algebra | 2\n",
      "Curr category is:  intermediate_algebra | 3\n",
      "Curr category is:  intermediate_algebra | 4\n",
      "Curr category is:  intermediate_algebra | 5\n",
      "Curr category is:  algebra | 1\n",
      "Curr category is:  algebra | 2\n",
      "Curr category is:  algebra | 4\n",
      "Curr category is:  algebra | 5\n",
      "Curr category is:  prealgebra | 1\n",
      "Curr category is:  prealgebra | 2\n",
      "Curr category is:  prealgebra | 3\n",
      "Curr category is:  prealgebra | 4\n",
      "Curr category is:  prealgebra | 5\n",
      "Curr category is:  geometry | 1\n",
      "Curr category is:  geometry | 2\n",
      "Curr category is:  geometry | 3\n",
      "Curr category is:  geometry | 4\n",
      "Curr category is:  geometry | 5\n",
      "Curr category is:  counting_and_probability | 1\n",
      "Curr category is:  counting_and_probability | 2\n",
      "Curr category is:  counting_and_probability | 3\n",
      "Curr category is:  counting_and_probability | 4\n",
      "Curr category is:  counting_and_probability | 5\n",
      "Curr category is:  precalculus | 1\n",
      "Curr category is:  precalculus | 2\n",
      "Curr category is:  precalculus | 3\n",
      "Curr category is:  precalculus | 4\n",
      "Curr category is:  precalculus | 5\n"
     ]
    }
   ],
   "source": [
    "math_id = -1\n",
    "whole_arr = []\n",
    "for curr_category in ans_df:\n",
    "    print(\"Curr category is: \", curr_category)\n",
    "    for _eg in ans_df[curr_category]:\n",
    "        math_id+=1\n",
    "        #print(perturb_type)\n",
    "        obj = dict()\n",
    "        obj['math_id'] = math_id\n",
    "        obj['category'] = curr_category\n",
    "        obj['split_used'] = _eg.split\n",
    "        input_str, correct_option = helper.fetch_general_task(_eg, \"Given a mathematics problem, determine the answer. Simplify your answer as much as possible.\\n###\\n\", \\\n",
    "                                                 \"Problem: \", \"Answer: \")\n",
    "        obj['instruction'] = input_str\n",
    "        obj['output'] = correct_option\n",
    "        whole_arr.append(obj)\n",
    "        #break\n",
    "    #break\n",
    "            \n",
    "            \n",
    "    #break"
   ]
  },
  {
   "cell_type": "code",
   "execution_count": 24,
   "id": "08001221",
   "metadata": {
    "scrolled": true
   },
   "outputs": [
    {
     "data": {
      "text/plain": [
       "{'math_id': 0,\n",
       " 'category': 'number_theory | 1',\n",
       " 'split_used': 'train',\n",
       " 'instruction': 'Given a mathematics problem, determine the answer. Simplify your answer as much as possible.\\n###\\nProblem: If 25,197,624 hot dogs are packaged in sets of 4, how many will be left over?\\nAnswer: ',\n",
       " 'output': '0'}"
      ]
     },
     "execution_count": 24,
     "metadata": {},
     "output_type": "execute_result"
    }
   ],
   "source": [
    "whole_arr[0]"
   ]
  },
  {
   "cell_type": "code",
   "execution_count": 25,
   "id": "15d97fc7",
   "metadata": {},
   "outputs": [
    {
     "name": "stdout",
     "output_type": "stream",
     "text": [
      "Given a mathematics problem, determine the answer. Simplify your answer as much as possible.\n",
      "###\n",
      "Problem: If 25,197,624 hot dogs are packaged in sets of 4, how many will be left over?\n",
      "Answer: \n"
     ]
    }
   ],
   "source": [
    "print(whole_arr[0]['instruction'])"
   ]
  },
  {
   "cell_type": "raw",
   "id": "f060d280",
   "metadata": {},
   "source": [
    "---------"
   ]
  },
  {
   "cell_type": "code",
   "execution_count": 26,
   "id": "de3c2e80",
   "metadata": {},
   "outputs": [
    {
     "data": {
      "text/plain": [
       "3600"
      ]
     },
     "execution_count": 26,
     "metadata": {},
     "output_type": "execute_result"
    }
   ],
   "source": [
    "len(whole_arr)"
   ]
  },
  {
   "cell_type": "code",
   "execution_count": 27,
   "id": "1eda5a60",
   "metadata": {},
   "outputs": [
    {
     "data": {
      "text/plain": [
       "Counter({'train': 2580, 'test': 1020})"
      ]
     },
     "execution_count": 27,
     "metadata": {},
     "output_type": "execute_result"
    }
   ],
   "source": [
    "Counter([x['split_used'] for x in whole_arr])"
   ]
  },
  {
   "cell_type": "code",
   "execution_count": 28,
   "id": "9e915c2a",
   "metadata": {},
   "outputs": [],
   "source": [
    "#Counter([x['perturb_type'] for x in whole_arr])"
   ]
  },
  {
   "cell_type": "code",
   "execution_count": 29,
   "id": "81ea6f2e",
   "metadata": {},
   "outputs": [
    {
     "name": "stdout",
     "output_type": "stream",
     "text": [
      "Given a mathematics problem, determine the answer. Simplify your answer as much as possible.\n",
      "###\n",
      "Problem: For certain vectors $\\mathbf{p}$ and $\\mathbf{q},$ the vectors $3 \\mathbf{p} + \\mathbf{q}$ and $5 \\mathbf{p} - 3 \\mathbf{q}$ are orthogonal.  Also, the vectors $2 \\mathbf{p} + \\mathbf{q}$ and $4 \\mathbf{p} - 2 \\mathbf{q}$ are orthogonal.  If $\\theta$ is the angle between $\\mathbf{p}$ and $\\mathbf{q},$ then find $\\cos \\theta.$\n",
      "Answer: \n"
     ]
    }
   ],
   "source": [
    "print(whole_arr[-1]['instruction'])"
   ]
  },
  {
   "cell_type": "code",
   "execution_count": 30,
   "id": "740f5343",
   "metadata": {},
   "outputs": [],
   "source": [
    "train_arr = list(filter(lambda x: \"train\" in x['split_used'], whole_arr))\n",
    "valid_arr = list(filter(lambda x: \"valid\" == x['split_used'], whole_arr))\n",
    "test_arr = list(filter(lambda x: \"test\" == x['split_used'], whole_arr))"
   ]
  },
  {
   "cell_type": "code",
   "execution_count": 31,
   "id": "50c82f4a",
   "metadata": {},
   "outputs": [
    {
     "name": "stdout",
     "output_type": "stream",
     "text": [
      "2580\n",
      "Counter({'train': 2580})\n",
      "Counter({'number_theory | 2': 80, 'number_theory | 3': 80, 'number_theory | 4': 80, 'number_theory | 5': 80, 'intermediate_algebra | 2': 80, 'intermediate_algebra | 3': 80, 'intermediate_algebra | 4': 80, 'intermediate_algebra | 5': 80, 'algebra | 1': 80, 'algebra | 2': 80, 'algebra | 4': 80, 'algebra | 5': 80, 'prealgebra | 1': 80, 'prealgebra | 2': 80, 'prealgebra | 3': 80, 'prealgebra | 4': 80, 'prealgebra | 5': 80, 'geometry | 2': 80, 'geometry | 3': 80, 'geometry | 4': 80, 'geometry | 5': 80, 'counting_and_probability | 2': 80, 'counting_and_probability | 3': 80, 'counting_and_probability | 4': 80, 'counting_and_probability | 5': 80, 'precalculus | 2': 80, 'precalculus | 3': 80, 'precalculus | 4': 80, 'precalculus | 5': 80, 'precalculus | 1': 64, 'intermediate_algebra | 1': 58, 'counting_and_probability | 1': 50, 'number_theory | 1': 47, 'geometry | 1': 41})\n"
     ]
    }
   ],
   "source": [
    "arr_look = train_arr\n",
    "print(len(arr_look))\n",
    "print(Counter([x['split_used'] for x in arr_look]))\n",
    "#print(Counter([x['output'] for x in arr_look]))\n",
    "print(Counter([x['category'] for x in arr_look]))"
   ]
  },
  {
   "cell_type": "code",
   "execution_count": 32,
   "id": "4067813b",
   "metadata": {},
   "outputs": [
    {
     "name": "stdout",
     "output_type": "stream",
     "text": [
      "0\n",
      "Counter()\n",
      "Counter()\n",
      "Counter()\n"
     ]
    }
   ],
   "source": [
    "arr_look = valid_arr\n",
    "print(len(arr_look))\n",
    "print(Counter([x['split_used'] for x in arr_look]))\n",
    "print(Counter([x['output'] for x in arr_look]))\n",
    "print(Counter([x['category'] for x in arr_look]))"
   ]
  },
  {
   "cell_type": "code",
   "execution_count": 33,
   "id": "230f788f",
   "metadata": {
    "scrolled": false
   },
   "outputs": [
    {
     "name": "stdout",
     "output_type": "stream",
     "text": [
      "1020\n",
      "Counter({'test': 1020})\n",
      "Counter({'number_theory | 1': 30, 'number_theory | 2': 30, 'number_theory | 3': 30, 'number_theory | 4': 30, 'number_theory | 5': 30, 'intermediate_algebra | 1': 30, 'intermediate_algebra | 2': 30, 'intermediate_algebra | 3': 30, 'intermediate_algebra | 4': 30, 'intermediate_algebra | 5': 30, 'algebra | 1': 30, 'algebra | 2': 30, 'algebra | 4': 30, 'algebra | 5': 30, 'prealgebra | 1': 30, 'prealgebra | 2': 30, 'prealgebra | 3': 30, 'prealgebra | 4': 30, 'prealgebra | 5': 30, 'geometry | 1': 30, 'geometry | 2': 30, 'geometry | 3': 30, 'geometry | 4': 30, 'geometry | 5': 30, 'counting_and_probability | 1': 30, 'counting_and_probability | 2': 30, 'counting_and_probability | 3': 30, 'counting_and_probability | 4': 30, 'counting_and_probability | 5': 30, 'precalculus | 1': 30, 'precalculus | 2': 30, 'precalculus | 3': 30, 'precalculus | 4': 30, 'precalculus | 5': 30})\n"
     ]
    }
   ],
   "source": [
    "arr_look = test_arr\n",
    "print(len(arr_look))\n",
    "print(Counter([x['split_used'] for x in arr_look]))\n",
    "#print(Counter([x['output'] for x in arr_look]))\n",
    "print(Counter([x['category'] for x in arr_look]))"
   ]
  },
  {
   "cell_type": "code",
   "execution_count": 34,
   "id": "06734e5b",
   "metadata": {},
   "outputs": [],
   "source": [
    "random.shuffle(train_arr)\n",
    "random.shuffle(valid_arr)\n",
    "random.shuffle(test_arr)"
   ]
  },
  {
   "cell_type": "code",
   "execution_count": null,
   "id": "febd4c4c",
   "metadata": {},
   "outputs": [],
   "source": [
    "\n",
    "\n",
    "save_path  = \"../../data/new_training_datasets/pegasus_mathqa_train_dataset.json\"\n",
    "with open(save_path, 'w') as fd:\n",
    "    json.dump(train_arr, fd, indent=1)\n",
    "    \n",
    "save_path  = \"../../data/new_training_datasets/pegasus_mathqa_valid_dataset.json\"\n",
    "with open(save_path, 'w') as fd:\n",
    "    json.dump(valid_arr, fd, indent=1)\n",
    "    \n",
    "save_path  = \"../../data/new_training_datasets/pegasus_mathqa_test_dataset.json\"\n",
    "with open(save_path, 'w') as fd:\n",
    "    json.dump(test_arr, fd, indent=1)"
   ]
  },
  {
   "cell_type": "code",
   "execution_count": null,
   "id": "777e461c",
   "metadata": {},
   "outputs": [],
   "source": []
  }
 ],
 "metadata": {
  "kernelspec": {
   "display_name": "wizard_coder_kernel",
   "language": "python",
   "name": "wizard_coder_kernel"
  },
  "language_info": {
   "codemirror_mode": {
    "name": "ipython",
    "version": 3
   },
   "file_extension": ".py",
   "mimetype": "text/x-python",
   "name": "python",
   "nbconvert_exporter": "python",
   "pygments_lexer": "ipython3",
   "version": "3.8.17"
  }
 },
 "nbformat": 4,
 "nbformat_minor": 5
}
